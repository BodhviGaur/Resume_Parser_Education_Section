{
 "cells": [
  {
   "cell_type": "code",
   "execution_count": 1,
   "metadata": {
    "collapsed": true
   },
   "outputs": [],
   "source": [
    "from os import listdir\n",
    "from os.path import isfile,join"
   ]
  },
  {
   "cell_type": "code",
   "execution_count": 2,
   "metadata": {
    "collapsed": true
   },
   "outputs": [],
   "source": [
    "import pandas as pd"
   ]
  },
  {
   "cell_type": "code",
   "execution_count": 3,
   "metadata": {
    "collapsed": false
   },
   "outputs": [],
   "source": [
    "import re\n",
    "from copy import deepcopy \n",
    "from collections import defaultdict"
   ]
  },
  {
   "cell_type": "code",
   "execution_count": 4,
   "metadata": {
    "collapsed": true
   },
   "outputs": [],
   "source": [
    "def file_names(mypath):\n",
    "    onlyfiles = [f for f in listdir(mypath) if isfile(join(mypath, f))]\n",
    "    return onlyfiles"
   ]
  },
  {
   "cell_type": "code",
   "execution_count": 5,
   "metadata": {
    "collapsed": false
   },
   "outputs": [
    {
     "name": "stderr",
     "output_type": "stream",
     "text": [
      "Using TensorFlow backend.\n"
     ]
    }
   ],
   "source": [
    "import numpy as np\n",
    "import tensorflow as tf\n",
    "import random as rn\n",
    "\n",
    "# The below is necessary in Python 3.2.3 onwards to\n",
    "# have reproducible behavior for certain hash-based operations.\n",
    "# See these references for further details:\n",
    "# https://docs.python.org/3.4/using/cmdline.html#envvar-PYTHONHASHSEED\n",
    "# https://github.com/keras-team/keras/issues/2280#issuecomment-306959926\n",
    "\n",
    "import os\n",
    "os.environ['PYTHONHASHSEED'] = '0'\n",
    "\n",
    "# The below is necessary for starting Numpy generated random numbers\n",
    "# in a well-defined initial state.\n",
    "\n",
    "np.random.seed(42)\n",
    "\n",
    "# The below is necessary for starting core Python generated random numbers\n",
    "# in a well-defined state.\n",
    "\n",
    "rn.seed(12345)\n",
    "\n",
    "# Force TensorFlow to use single thread.\n",
    "# Multiple threads are a potential source of\n",
    "# non-reproducible results.\n",
    "# For further details, see: https://stackoverflow.com/questions/42022950/which-seeds-have-to-be-set-where-to-realize-100-reproducibility-of-training-res\n",
    "\n",
    "session_conf = tf.ConfigProto(intra_op_parallelism_threads=1, inter_op_parallelism_threads=1)\n",
    "\n",
    "from keras import backend as K\n",
    "\n",
    "# The below tf.set_random_seed() will make random number generation\n",
    "# in the TensorFlow backend have a well-defined initial state.\n",
    "# For further details, see: https://www.tensorflow.org/api_docs/python/tf/set_random_seed\n",
    "\n",
    "tf.set_random_seed(1234)\n",
    "\n",
    "sess = tf.Session(graph=tf.get_default_graph(), config=session_conf)\n",
    "K.set_session(sess)"
   ]
  },
  {
   "cell_type": "code",
   "execution_count": 6,
   "metadata": {
    "collapsed": true
   },
   "outputs": [],
   "source": [
    "# f = pd.read_csv(\"/home/karan/Doing/Tagged/70689-5266692.csv\")"
   ]
  },
  {
   "cell_type": "code",
   "execution_count": 7,
   "metadata": {
    "collapsed": false
   },
   "outputs": [],
   "source": [
    "# f = f[~pd.isnull(f[\"tags\"])]"
   ]
  },
  {
   "cell_type": "code",
   "execution_count": 8,
   "metadata": {
    "collapsed": false
   },
   "outputs": [],
   "source": [
    "max_len=0"
   ]
  },
  {
   "cell_type": "code",
   "execution_count": 9,
   "metadata": {
    "collapsed": false
   },
   "outputs": [],
   "source": [
    "words=[]\n",
    "tags=[]\n",
    "pos_tags=[]\n",
    "bold = []\n",
    "font_size = []"
   ]
  },
  {
   "cell_type": "code",
   "execution_count": 10,
   "metadata": {
    "collapsed": true
   },
   "outputs": [],
   "source": [
    "wordsUnique=\"\"\n",
    "tagsUnique=\"\"\n",
    "posUnique=\"\"\n",
    "boldUnique=\"\"\n",
    "fsizeUnique=\"\""
   ]
  },
  {
   "cell_type": "code",
   "execution_count": 11,
   "metadata": {
    "collapsed": true
   },
   "outputs": [],
   "source": [
    "def colonToSYM(x):\n",
    "    if x==\":\":\n",
    "        return \"SYM\"\n",
    "    else:\n",
    "        return x"
   ]
  },
  {
   "cell_type": "code",
   "execution_count": 12,
   "metadata": {
    "collapsed": false
   },
   "outputs": [],
   "source": [
    "def lower1(x):\n",
    "    return str(x).lower()"
   ]
  },
  {
   "cell_type": "code",
   "execution_count": 13,
   "metadata": {
    "collapsed": false
   },
   "outputs": [],
   "source": [
    "from collections import Counter\n",
    "def combineFiles():\n",
    "    global wordsUnique,tagsUnique,posUnique,boldUnique,fsizeUnique,max_len\n",
    "    c=0\n",
    "    err = []\n",
    "    for fname in file_names(\"/home/karan/Doing/tagall/\"):\n",
    "        try:\n",
    "            f = pd.read_csv(\"/home/karan/Doing/tagall/\"+fname)\n",
    "            f = f[~pd.isnull(f[\"tags\"]) & ~((f[\"tags\"]==\" \") | (f[\"tags\"]==\"  \"))]   # Take tagged data i.e. Education Section\n",
    "            f[\"POStags\"] = f[\"POStags\"].apply(colonToSYM)\n",
    "            f[\"datam\"] = f[\"datam\"].apply(lower1)\n",
    "            if c==0:\n",
    "                wordsUnique=Counter(f[\"datam\"])\n",
    "                tagsUnique=Counter(f[\"tags\"])\n",
    "                posUnique=Counter(f[\"POStags\"])\n",
    "#                 boldUnique=Counter(f[\"bold\"])\n",
    "#                 fsizeUnique=Counter(f[\"fontsize\"])\n",
    "            else:\n",
    "                wordsUnique += Counter(f[\"datam\"])\n",
    "                tagsUnique += Counter(f[\"tags\"])\n",
    "                posUnique += Counter(f[\"POStags\"])\n",
    "#                 boldUnique += Counter(f[\"bold\"])\n",
    "#                 fsizeUnique += Counter(f[\"fontsize\"])\n",
    "            words.append(list(f[\"datam\"]))\n",
    "            tags.append(list(f[\"tags\"]))  \n",
    "            pos_tags.append(list(f[\"POStags\"]))\n",
    "#             bold.append(list(f[\"bold\"]))\n",
    "#             font_size.append(list(f[\"fontsize\"]))\n",
    "            c+=1\n",
    "            max_len =max(max_len,len(f[\"datam\"]))\n",
    "            if sum(f[\"tags\"]==\" \")>0:\n",
    "                print fname\n",
    "        except Exception as e:\n",
    "            print \"Not processed \",fname\n",
    "            print \"Mess\",e.message\n",
    "            err.append(fname)\n",
    "    print \"Max\",max_len\n",
    "        "
   ]
  },
  {
   "cell_type": "code",
   "execution_count": 1,
   "metadata": {
    "collapsed": false
   },
   "outputs": [],
   "source": [
    "combineFiles()"
   ]
  },
  {
   "cell_type": "code",
   "execution_count": 17,
   "metadata": {
    "collapsed": false
   },
   "outputs": [],
   "source": [
    "# df[~pd.isnull(df[\"tags\"]) & ~(df[\"tags\"]==\" \")]"
   ]
  },
  {
   "cell_type": "code",
   "execution_count": 18,
   "metadata": {
    "collapsed": false
   },
   "outputs": [
    {
     "data": {
      "text/plain": [
       "'\\nWe made an array for all the words and tags present in our cvs.\\n'"
      ]
     },
     "execution_count": 18,
     "metadata": {},
     "output_type": "execute_result"
    }
   ],
   "source": [
    "'''\n",
    "We made an array for all the words and tags present in our cvs.\n",
    "'''"
   ]
  },
  {
   "cell_type": "code",
   "execution_count": 19,
   "metadata": {
    "collapsed": false
   },
   "outputs": [
    {
     "data": {
      "text/plain": [
       "34"
      ]
     },
     "execution_count": 19,
     "metadata": {},
     "output_type": "execute_result"
    }
   ],
   "source": [
    "len(posUnique)"
   ]
  },
  {
   "cell_type": "code",
   "execution_count": 20,
   "metadata": {
    "collapsed": false
   },
   "outputs": [
    {
     "data": {
      "text/plain": [
       "Counter({nan: 2,\n",
       "         '$': 1,\n",
       "         '(': 2,\n",
       "         'CC': 240,\n",
       "         'CD': 1383,\n",
       "         'DT': 120,\n",
       "         'FW': 1,\n",
       "         'IN': 1760,\n",
       "         'JJ': 405,\n",
       "         'JJR': 5,\n",
       "         'JJS': 6,\n",
       "         'MD': 3,\n",
       "         'NN': 1948,\n",
       "         'NNP': 8260,\n",
       "         'NNPS': 48,\n",
       "         'NNS': 240,\n",
       "         'OTH': 62,\n",
       "         'POS': 3,\n",
       "         'PRP': 7,\n",
       "         'PRP$': 4,\n",
       "         'RB': 16,\n",
       "         'RBR': 2,\n",
       "         'RP': 3,\n",
       "         'SYM': 185,\n",
       "         'TO': 48,\n",
       "         'UH': 1,\n",
       "         'VB': 11,\n",
       "         'VBD': 89,\n",
       "         'VBG': 108,\n",
       "         'VBN': 45,\n",
       "         'VBP': 23,\n",
       "         'VBZ': 18,\n",
       "         'WDT': 5,\n",
       "         'WP': 1})"
      ]
     },
     "execution_count": 20,
     "metadata": {},
     "output_type": "execute_result"
    }
   ],
   "source": [
    "posUnique"
   ]
  },
  {
   "cell_type": "code",
   "execution_count": 21,
   "metadata": {
    "collapsed": false
   },
   "outputs": [
    {
     "data": {
      "text/plain": [
       "Counter({' BDEG': 1,\n",
       "         'BBRD': 56,\n",
       "         'BBRMA': 351,\n",
       "         'BBRMI': 47,\n",
       "         'BDATE': 228,\n",
       "         'BDATE ': 1,\n",
       "         'BDEG': 608,\n",
       "         'BGRD': 18,\n",
       "         'BINST': 942,\n",
       "         'BLOC': 86,\n",
       "         'IBMRI': 7,\n",
       "         'IBRD': 127,\n",
       "         'IBRMA': 642,\n",
       "         'IBRMA ': 1,\n",
       "         'IBRMI': 139,\n",
       "         'IDATE': 340,\n",
       "         'IDEG': 1543,\n",
       "         'IGRD': 19,\n",
       "         'III': 1,\n",
       "         'IIINST': 4,\n",
       "         'IINST': 2306,\n",
       "         'ILOC': 97,\n",
       "         'O': 4646,\n",
       "         'O ': 27,\n",
       "         'UBGD': 1,\n",
       "         'UBRD': 60,\n",
       "         'UBRMA': 91,\n",
       "         'UBRMI': 7,\n",
       "         'UDATE': 544,\n",
       "         'UDEG': 842,\n",
       "         'UDGE': 1,\n",
       "         'UDGRD': 1,\n",
       "         'UDTE': 1,\n",
       "         'UGED': 1,\n",
       "         'UGRD': 414,\n",
       "         'UGRS': 1,\n",
       "         'UINST': 108,\n",
       "         'ULOC': 745,\n",
       "         'URGD': 1})"
      ]
     },
     "execution_count": 21,
     "metadata": {},
     "output_type": "execute_result"
    }
   ],
   "source": [
    "tagsUnique"
   ]
  },
  {
   "cell_type": "code",
   "execution_count": 22,
   "metadata": {
    "collapsed": false
   },
   "outputs": [],
   "source": [
    "noOfDocs = len(tags)"
   ]
  },
  {
   "cell_type": "code",
   "execution_count": 23,
   "metadata": {
    "collapsed": false
   },
   "outputs": [
    {
     "data": {
      "text/plain": [
       "478"
      ]
     },
     "execution_count": 23,
     "metadata": {},
     "output_type": "execute_result"
    }
   ],
   "source": [
    "noOfDocs"
   ]
  },
  {
   "cell_type": "code",
   "execution_count": 24,
   "metadata": {
    "collapsed": true
   },
   "outputs": [],
   "source": [
    "words1 = deepcopy(words)"
   ]
  },
  {
   "cell_type": "code",
   "execution_count": null,
   "metadata": {
    "collapsed": false
   },
   "outputs": [],
   "source": []
  },
  {
   "cell_type": "code",
   "execution_count": 25,
   "metadata": {
    "collapsed": false
   },
   "outputs": [],
   "source": [
    "flag=0\n",
    "sub=\"&amp;\"\n",
    "sub1=\"&amp\"\n",
    "def datacleaning(arr):\n",
    "\tglobal flag\n",
    "\tfor x in range(len(arr)):\n",
    "\t\tfor y in range(len(arr[x])):\n",
    "\t\t\tflag=0\n",
    "\t\t\tif len(arr[x][y])==1:\n",
    "\t\t\t\tcontinue\n",
    "\t\t\telif arr[x][y]==\"\":\n",
    "\t\t\t\tarr[x][y]=\"#\"\n",
    "\t\t\t\tcontinue\n",
    "\t\t\telse:\n",
    "\t\t\t\t#for the first character\n",
    "\t\t\t\tif arr[x][y][0]=='(':\n",
    "\t\t\t\t\tif arr[x][y][-1]==')':\n",
    "\t\t\t\t\t\tprint arr[x][y],\" to \",\n",
    "\t\t\t\t\t\tarr[x][y]=arr[x][y][1:]\n",
    "\t\t\t\t\t\tarr[x][y]=arr[x][y][:-1]\n",
    "\t\t\t\t\t\tprint arr[x][y]\n",
    "\t\t\t\t\telse:\n",
    "\t\t\t\t\t\tfor i in range(len(arr[x][y])-1) :\n",
    "\t\t\t\t\t\t\tif arr[x][y][i]==')':\n",
    "\t\t\t\t\t\t\t\tflag=1\n",
    "\t\t\t\t\t\t\t\tbreak\n",
    "\t\t\t\t\t\tif flag==0 :\n",
    "\t\t\t\t\t\t\tarr[x][y]=arr[x][y][1:]\n",
    "\t\t\t\t\tflag=0\n",
    "\t\t\t\telif not(arr[x][y][0].isalpha()) and not(arr[x][y][0].isdigit()):\n",
    "\t\t\t\t\tarr[x][y]=arr[x][y][1:]\t\n",
    "\n",
    "\t\t\t\t#for last character\n",
    "\t\t\t\tif arr[x][y][-1]==')':\n",
    "\t\t\t\t\tif arr[x][y][0]=='(':\n",
    "\t\t\t\t\t\tarr[x][y]=arr[x][y][1:]\n",
    "\t\t\t\t\t\tarr[x][y]=arr[x][y][:-1]\n",
    "\t\t\t\t\telse:\n",
    "\t\t\t\t\t\tfor i in range(1,len(arr[x][y])) :\n",
    "\t\t\t\t\t\t\tif arr[x][y][i]=='(':\n",
    "\t\t\t\t\t\t\t\tflag=1\n",
    "\t\t\t\t\t\t\t\tbreak\n",
    "\t\t\t\t\t\tif flag==0 :\n",
    "\t\t\t\t\t\t\tarr[x][y]=arr[x][y][:-1]\n",
    "\t\t\t\t\tflag=0\n",
    "                    \n",
    "\t\t\t\tif '\"' in arr[x][y]:\n",
    "\t\t\t\t\tarr[x][y]=arr[x][y].replace('\"','')\n",
    "\t\t\t\telif arr[x][y]==\"\":\n",
    "\t\t\t\t\tarr[x][y]=\"#\"\n",
    "\n",
    "\t\t\t\telif arr[x][y][-1]=='%':\n",
    "\t\t\t\t\tpass\n",
    "\t\t\t\telif not(arr[x][y][-1].isalpha()) and not(arr[x][y][-1].isdigit()):\n",
    "\t\t\t\t\tarr[x][y]=arr[x][y][:-1]\n",
    "\n",
    "\t\t\t\tif sub in arr[x][y]:\n",
    "\t\t\t\t\tarr[x][y]=arr[x][y].replace(sub,'&')\n",
    "\t\t\t\tif sub1 in arr[x][y]:\n",
    "\t\t\t\t\tarr[x][y]=arr[x][y].replace(sub1,'&')\n",
    "\t\n",
    "\tc=0\n",
    "\tfor x in range(len(arr)):\n",
    "\t\tfor y in range(len(arr[x])):\n",
    "\t\t\tif arr[x][y]==\"\":\n",
    "\t\t\t\tarr[x][y]=\"#\"\n",
    "\treturn arr"
   ]
  },
  {
   "cell_type": "code",
   "execution_count": 2,
   "metadata": {
    "collapsed": false
   },
   "outputs": [],
   "source": [
    "datacleaning(words)"
   ]
  },
  {
   "cell_type": "code",
   "execution_count": 27,
   "metadata": {
    "collapsed": true
   },
   "outputs": [],
   "source": [
    "# ls=[]\n",
    "# for x in words:\n",
    "#     for y in x:\n",
    "#         ls.append(y)\n"
   ]
  },
  {
   "cell_type": "code",
   "execution_count": 28,
   "metadata": {
    "collapsed": false
   },
   "outputs": [],
   "source": [
    "# pd.DataFrame(ls).to_csv(\"wordsAfterClean.csv\")"
   ]
  },
  {
   "cell_type": "code",
   "execution_count": 29,
   "metadata": {
    "collapsed": false
   },
   "outputs": [
    {
     "name": "stdout",
     "output_type": "stream",
     "text": [
      "2012)\n",
      "2012\n",
      "3.5/4.0)\n",
      "3.5/4.0\n",
      "system)\n",
      "system\n",
      "(2008-2012)\n",
      "2008-2012\n",
      "(distinction)\n",
      "distinction\n",
      "(2006-2009)\n",
      "2006-2009\n",
      "(2005-2006)\n",
      "2005-2006\n",
      "(2002-2003)\n",
      "2002-2003\n",
      "2013)\n",
      "2013\n",
      "maths)\n",
      "maths\n",
      "74%)\n",
      "74%\n",
      "(2004)\n",
      "2004\n",
      "profile:\n",
      "profile\n",
      "profile:\n",
      "profile\n",
      "proficiency:\n",
      "proficiency\n",
      "10)\n",
      "10\n",
      "(%)\n",
      "%\n",
      "(%)\n",
      "%\n",
      "university)\n",
      "university\n",
      "(autonomous)\n",
      "autonomous\n",
      "0\n"
     ]
    }
   ],
   "source": [
    "c=0\n",
    "for i in range(len(words)):\n",
    "    for j in range(len(words[i])):\n",
    "        if words[i][j][-1] in [')'] and '(' not in words[i][j] and len(words[i][j])>1:\n",
    "            print words[i][j]\n",
    "            words[i][j]=words[i][j][:-1]\n",
    "            print words[i][j]\n",
    "        elif words[i][j][-1]==\":\" and len(words[i][j])>1:\n",
    "            print words[i][j]\n",
    "            words[i][j] = words[i][j][:-1]\n",
    "            print words[i][j]\n",
    "        elif words[i][j][0]==\"(\" and words[i][j][-1]==\")\":\n",
    "            print words[i][j]\n",
    "            words[i][j] = words[i][j][1:-1]\n",
    "            print words[i][j]\n",
    "print c"
   ]
  },
  {
   "cell_type": "code",
   "execution_count": 30,
   "metadata": {
    "collapsed": false
   },
   "outputs": [
    {
     "name": "stdout",
     "output_type": "stream",
     "text": [
      "actionuri(https://devmountain.com/)\n",
      "dip.engg.\n",
      "abet(aicte)\n",
      "m.p.\n",
      "actionuri(https://github.com/slime9/109final)\n",
      "5\n"
     ]
    }
   ],
   "source": [
    "c=0\n",
    "for i in range(len(words)):\n",
    "    for j in range(len(words[i])):\n",
    "        if words[i][j][0] in [\",\",\".\",\"/\",\"'\",\":\",\";\",\"(\",\")\"] and len(words[i][j])>1:\n",
    "            print words[i][j]\n",
    "#             words[i][j]=words[i][j][1:]\n",
    "            c+=1\n",
    "        elif words[i][j][-1] in [\",\",\".\",\"/\",\"'\",\":\",\";\",\"(\",\")\"] and len(words[i][j])>1:\n",
    "            print words[i][j]\n",
    "#             words[i][j]=words[i][j][:-1]\n",
    "            c+=1\n",
    "print c"
   ]
  },
  {
   "cell_type": "code",
   "execution_count": 31,
   "metadata": {
    "collapsed": true
   },
   "outputs": [],
   "source": [
    "wordsUnique=defaultdict()"
   ]
  },
  {
   "cell_type": "code",
   "execution_count": 32,
   "metadata": {
    "collapsed": true
   },
   "outputs": [],
   "source": [
    "for word in words:\n",
    "    for x in word:\n",
    "        if x not in wordsUnique:\n",
    "            wordsUnique[x]=1\n",
    "        else:\n",
    "            wordsUnique[x]+=1"
   ]
  },
  {
   "cell_type": "code",
   "execution_count": 33,
   "metadata": {
    "collapsed": false
   },
   "outputs": [
    {
     "data": {
      "text/plain": [
       "3331"
      ]
     },
     "execution_count": 33,
     "metadata": {},
     "output_type": "execute_result"
    }
   ],
   "source": [
    "len(wordsUnique)"
   ]
  },
  {
   "cell_type": "code",
   "execution_count": 3,
   "metadata": {
    "collapsed": false
   },
   "outputs": [],
   "source": [
    "# wordsUnique"
   ]
  },
  {
   "cell_type": "code",
   "execution_count": 35,
   "metadata": {
    "collapsed": false
   },
   "outputs": [
    {
     "data": {
      "text/plain": [
       "478"
      ]
     },
     "execution_count": 35,
     "metadata": {},
     "output_type": "execute_result"
    }
   ],
   "source": [
    "len(words)"
   ]
  },
  {
   "cell_type": "code",
   "execution_count": 36,
   "metadata": {
    "collapsed": false
   },
   "outputs": [
    {
     "data": {
      "text/plain": [
       "15055"
      ]
     },
     "execution_count": 36,
     "metadata": {},
     "output_type": "execute_result"
    }
   ],
   "source": [
    "sum(len(x) for x in words)"
   ]
  },
  {
   "cell_type": "code",
   "execution_count": 37,
   "metadata": {
    "collapsed": false
   },
   "outputs": [],
   "source": [
    "tagsUnique=defaultdict()"
   ]
  },
  {
   "cell_type": "code",
   "execution_count": 38,
   "metadata": {
    "collapsed": true
   },
   "outputs": [],
   "source": [
    "def conv():\n",
    "    i=0\n",
    "    while(1):\n",
    "        ind=0\n",
    "        for tg in tags[i]:\n",
    "            if tg=='BDATE ':\n",
    "                tags[i][ind]=\"BDATE\"\n",
    "            elif tg=='URGD':\n",
    "                tags[i][ind]=\"UGRD\"\n",
    "            elif tg=='UDG' or tg == 'UDGE':\n",
    "                tags[i][ind]=\"UDEG\"\n",
    "            elif tg=='IBMRI':\n",
    "                tags[i][ind] = \"IBRMI\"\n",
    "            elif tg=='INST' or tg == 'III':\n",
    "                tags[i][ind] = \"IINST\"\n",
    "            elif tg=='UDGRD' or tg=='UGED' or tg=='UGRS':\n",
    "                tags[i][ind] = 'UGRD'\n",
    "            elif tg=='O ':\n",
    "                tags[i][ind] = 'O'\n",
    "            elif tg== ' BDEG':\n",
    "                tags[i][ind]=\"BDEG\"\n",
    "            elif tg=='IIINST':\n",
    "                tags[i][ind]=\"IINST\"\n",
    "            elif tg=='IBRMA ':\n",
    "                tags[i][ind] = \"IBRMA\"\n",
    "            elif tg=='BBRMA ' or tg=='BIBRMA':\n",
    "                tags[i][ind] = \"BBRMA\"\n",
    "            elif tg=='ULCO':\n",
    "                tags[i][ind] = 'ULOC'\n",
    "            elif tg=='UDTE' or tg=='UDATEO':\n",
    "                tags[i][ind] = 'UDATE'\n",
    "                \n",
    "            ind+=1\n",
    "        i+=1\n",
    "        if (i>=noOfDocs):\n",
    "            break\n",
    "            "
   ]
  },
  {
   "cell_type": "code",
   "execution_count": 39,
   "metadata": {
    "collapsed": false
   },
   "outputs": [],
   "source": [
    "conv()"
   ]
  },
  {
   "cell_type": "code",
   "execution_count": 40,
   "metadata": {
    "collapsed": true
   },
   "outputs": [],
   "source": [
    "def conv2():\n",
    "    i=0\n",
    "    while(1):\n",
    "        ind=0\n",
    "        for tg in tags[i]:\n",
    "            if \"DATE\" in tg:\n",
    "                tags[i][ind]=\"O\"\n",
    "            elif \"LOC\" in tg:\n",
    "                tags[i][ind]=\"O\"\n",
    "            elif \"BRD\" in tg:\n",
    "                tags[i][ind]=\"O\"\n",
    "            elif \"BBRMA\" in tg:\n",
    "                tags[i][ind]=\"O\"\n",
    "            elif \"BBRMI\" in tg:\n",
    "                tags[i][ind]=\"O\"\n",
    "            elif \"IBRMA\" in tg:\n",
    "                tags[i][ind]=\"O\"\n",
    "            elif \"IBRMI\" in tg:\n",
    "                tags[i][ind]=\"O\"\n",
    "            elif \"UBRMA\" in tg:\n",
    "                tags[i][ind]=\"O\"\n",
    "            elif \"UBRMI\" in tg:\n",
    "                tags[i][ind]=\"O\"\n",
    "            elif \"GRD\" in tg:\n",
    "                tags[i][ind]=\"O\"\n",
    "            elif \"UBGD\" in tg:\n",
    "                tags[i][ind]=\"O\"\n",
    "            else:\n",
    "                pass\n",
    "            ind+=1\n",
    "        i+=1\n",
    "        for x in tags[i-1]:\n",
    "            if x not in tagsUnique:\n",
    "                tagsUnique[x]=1\n",
    "            else:\n",
    "                tagsUnique[x]+=1\n",
    "        if (i>=noOfDocs):\n",
    "            break"
   ]
  },
  {
   "cell_type": "code",
   "execution_count": 41,
   "metadata": {
    "collapsed": true
   },
   "outputs": [],
   "source": [
    "conv2()"
   ]
  },
  {
   "cell_type": "code",
   "execution_count": 42,
   "metadata": {
    "collapsed": false
   },
   "outputs": [
    {
     "data": {
      "text/plain": [
       "defaultdict(None,\n",
       "            {'BDEG': 609,\n",
       "             'BINST': 942,\n",
       "             'IDEG': 1543,\n",
       "             'IINST': 2311,\n",
       "             'O': 8699,\n",
       "             'UDEG': 843,\n",
       "             'UINST': 108})"
      ]
     },
     "execution_count": 42,
     "metadata": {},
     "output_type": "execute_result"
    }
   ],
   "source": [
    "tagsUnique"
   ]
  },
  {
   "cell_type": "code",
   "execution_count": 43,
   "metadata": {
    "collapsed": false
   },
   "outputs": [],
   "source": [
    "#sum(tagsUnique[x] for x in tagsUnique)"
   ]
  },
  {
   "cell_type": "code",
   "execution_count": 44,
   "metadata": {
    "collapsed": false
   },
   "outputs": [
    {
     "data": {
      "text/plain": [
       "3331"
      ]
     },
     "execution_count": 44,
     "metadata": {},
     "output_type": "execute_result"
    }
   ],
   "source": [
    "len(wordsUnique)"
   ]
  },
  {
   "cell_type": "code",
   "execution_count": 45,
   "metadata": {
    "collapsed": false
   },
   "outputs": [
    {
     "data": {
      "text/plain": [
       "7"
      ]
     },
     "execution_count": 45,
     "metadata": {},
     "output_type": "execute_result"
    }
   ],
   "source": [
    "len(tagsUnique)"
   ]
  },
  {
   "cell_type": "code",
   "execution_count": 46,
   "metadata": {
    "collapsed": true
   },
   "outputs": [],
   "source": [
    "wuniq = wordsUnique.keys()"
   ]
  },
  {
   "cell_type": "code",
   "execution_count": 47,
   "metadata": {
    "collapsed": true
   },
   "outputs": [],
   "source": [
    "tuniq = tagsUnique.keys()"
   ]
  },
  {
   "cell_type": "code",
   "execution_count": 48,
   "metadata": {
    "collapsed": false
   },
   "outputs": [],
   "source": [
    "tuniq = [x[0] + \"-\" + x[1:] if (x!=\"O\") else x for x in tuniq]"
   ]
  },
  {
   "cell_type": "code",
   "execution_count": 49,
   "metadata": {
    "collapsed": true
   },
   "outputs": [],
   "source": [
    "puniq = posUnique.keys()"
   ]
  },
  {
   "cell_type": "code",
   "execution_count": 50,
   "metadata": {
    "collapsed": false
   },
   "outputs": [],
   "source": [
    "import pickle"
   ]
  },
  {
   "cell_type": "code",
   "execution_count": 51,
   "metadata": {
    "collapsed": false
   },
   "outputs": [],
   "source": [
    "f = open(\"testWuniq.txt\",'r')\n",
    "wtuniq = pickle.load(f)\n",
    "f.close()\n",
    "\n",
    "f1 = open(\"testPuniq.txt\",'r')\n",
    "ptuniq = pickle.load(f1)\n",
    "f1.close()"
   ]
  },
  {
   "cell_type": "code",
   "execution_count": 52,
   "metadata": {
    "collapsed": false
   },
   "outputs": [],
   "source": [
    "for x in wtuniq:\n",
    "    if x not in wuniq:\n",
    "        wuniq.append(x)"
   ]
  },
  {
   "cell_type": "code",
   "execution_count": 53,
   "metadata": {
    "collapsed": false
   },
   "outputs": [],
   "source": [
    "for x in ptuniq:\n",
    "    if x not in puniq:\n",
    "        puniq.append(x)"
   ]
  },
  {
   "cell_type": "code",
   "execution_count": 54,
   "metadata": {
    "collapsed": false
   },
   "outputs": [],
   "source": [
    "wuniq.append(\"ENDPAD\")"
   ]
  },
  {
   "cell_type": "code",
   "execution_count": 55,
   "metadata": {
    "collapsed": true
   },
   "outputs": [],
   "source": [
    "tags1=[]"
   ]
  },
  {
   "cell_type": "code",
   "execution_count": 56,
   "metadata": {
    "collapsed": false
   },
   "outputs": [],
   "source": [
    "for tg in tags:\n",
    "    tags1.append([x[0] + \"-\" + x[1:] if (x!=\"O\") else x for x in tg])"
   ]
  },
  {
   "cell_type": "code",
   "execution_count": 57,
   "metadata": {
    "collapsed": false
   },
   "outputs": [],
   "source": [
    "tags=tags1"
   ]
  },
  {
   "cell_type": "code",
   "execution_count": 58,
   "metadata": {
    "collapsed": true
   },
   "outputs": [],
   "source": [
    "max_len = 125"
   ]
  },
  {
   "cell_type": "code",
   "execution_count": null,
   "metadata": {
    "collapsed": false
   },
   "outputs": [],
   "source": []
  },
  {
   "cell_type": "code",
   "execution_count": 59,
   "metadata": {
    "collapsed": true
   },
   "outputs": [],
   "source": [
    "f = open(\"finalWuniq.txt\",'w')\n",
    "pickle.dump(wuniq,f)\n",
    "f.close()\n",
    "\n",
    "f1 = open(\"finalPuniq.txt\",'w')\n",
    "pickle.dump(puniq,f1)\n",
    "f1.close()"
   ]
  },
  {
   "cell_type": "code",
   "execution_count": 60,
   "metadata": {
    "collapsed": false
   },
   "outputs": [],
   "source": [
    "word2idx = {w: i for i, w in enumerate(wuniq)}\n",
    "tag2idx = {t: i for i, t in enumerate(tuniq)}\n",
    "pos2idx = {p: i for i, p in enumerate(puniq)}"
   ]
  },
  {
   "cell_type": "code",
   "execution_count": null,
   "metadata": {
    "collapsed": false
   },
   "outputs": [],
   "source": []
  },
  {
   "cell_type": "code",
   "execution_count": 61,
   "metadata": {
    "collapsed": false
   },
   "outputs": [],
   "source": [
    "from keras.preprocessing.sequence import pad_sequences"
   ]
  },
  {
   "cell_type": "code",
   "execution_count": 62,
   "metadata": {
    "collapsed": true
   },
   "outputs": [],
   "source": [
    "n_words = len(wuniq)"
   ]
  },
  {
   "cell_type": "code",
   "execution_count": 63,
   "metadata": {
    "collapsed": false
   },
   "outputs": [
    {
     "data": {
      "text/plain": [
       "3542"
      ]
     },
     "execution_count": 63,
     "metadata": {},
     "output_type": "execute_result"
    }
   ],
   "source": [
    "n_words"
   ]
  },
  {
   "cell_type": "code",
   "execution_count": 64,
   "metadata": {
    "collapsed": false
   },
   "outputs": [],
   "source": [
    "n_tags = len(tagsUnique)"
   ]
  },
  {
   "cell_type": "code",
   "execution_count": 65,
   "metadata": {
    "collapsed": false
   },
   "outputs": [],
   "source": [
    "n_pos = len(puniq)"
   ]
  },
  {
   "cell_type": "code",
   "execution_count": 66,
   "metadata": {
    "collapsed": false
   },
   "outputs": [],
   "source": [
    "# wuniq[3860]"
   ]
  },
  {
   "cell_type": "code",
   "execution_count": 67,
   "metadata": {
    "collapsed": false
   },
   "outputs": [],
   "source": [
    "# n_fonts = len(funiq)"
   ]
  },
  {
   "cell_type": "code",
   "execution_count": 68,
   "metadata": {
    "collapsed": false
   },
   "outputs": [],
   "source": [
    "X_words = [[word2idx[w] for w in s] for s in words]"
   ]
  },
  {
   "cell_type": "code",
   "execution_count": 69,
   "metadata": {
    "collapsed": true
   },
   "outputs": [],
   "source": [
    "X_pos = [[pos2idx[w] for w in s] for s in pos_tags]"
   ]
  },
  {
   "cell_type": "code",
   "execution_count": 70,
   "metadata": {
    "collapsed": false
   },
   "outputs": [],
   "source": [
    "# X_font = [[fsize2idx[w] for w in s] for s in font_size]"
   ]
  },
  {
   "cell_type": "code",
   "execution_count": 71,
   "metadata": {
    "collapsed": false
   },
   "outputs": [],
   "source": [
    "y = [[tag2idx[w] for w in s] for s in tags]"
   ]
  },
  {
   "cell_type": "code",
   "execution_count": 72,
   "metadata": {
    "collapsed": false
   },
   "outputs": [],
   "source": [
    "X_words = pad_sequences(maxlen=max_len, sequences=X_words, padding=\"post\", value=n_words-1)  # n_words-1 because if n_words is given then the system cannot locate the n_wordTH index in X bcoz indices of words list exist only from 0 to n_word-1. "
   ]
  },
  {
   "cell_type": "code",
   "execution_count": 73,
   "metadata": {
    "collapsed": false
   },
   "outputs": [],
   "source": [
    "X_pos = pad_sequences(maxlen=max_len, sequences=X_pos, padding=\"post\", value=pos2idx[\"$\"])  # n_words-1 because if n_words is given then the system cannot locate the n_wordTH index in X bcoz indices of words list exist only from 0 to n_word-1. "
   ]
  },
  {
   "cell_type": "code",
   "execution_count": 74,
   "metadata": {
    "collapsed": false
   },
   "outputs": [],
   "source": [
    "# X_font = pad_sequences(maxlen=max_len, sequences=X_font, padding=\"post\", value=0)  # n_words-1 because if n_words is given then the system cannot locate the n_wordTH index in X bcoz indices of words list exist only from 0 to n_word-1. "
   ]
  },
  {
   "cell_type": "code",
   "execution_count": 75,
   "metadata": {
    "collapsed": true
   },
   "outputs": [],
   "source": [
    "y = pad_sequences(maxlen=max_len, sequences=y, padding=\"post\", value=tag2idx[\"O\"])"
   ]
  },
  {
   "cell_type": "code",
   "execution_count": 76,
   "metadata": {
    "collapsed": false
   },
   "outputs": [
    {
     "data": {
      "text/plain": [
       "(478, 125)"
      ]
     },
     "execution_count": 76,
     "metadata": {},
     "output_type": "execute_result"
    }
   ],
   "source": [
    "y.shape"
   ]
  },
  {
   "cell_type": "code",
   "execution_count": 77,
   "metadata": {
    "collapsed": true
   },
   "outputs": [],
   "source": [
    "from keras.utils import to_categorical"
   ]
  },
  {
   "cell_type": "code",
   "execution_count": 78,
   "metadata": {
    "collapsed": true
   },
   "outputs": [],
   "source": [
    "# X_font = [to_categorical(i, num_classes=n_fonts) for i in X_font]"
   ]
  },
  {
   "cell_type": "code",
   "execution_count": 79,
   "metadata": {
    "collapsed": false
   },
   "outputs": [],
   "source": [
    "y = [to_categorical(i, num_classes=n_tags) for i in y]"
   ]
  },
  {
   "cell_type": "code",
   "execution_count": 80,
   "metadata": {
    "collapsed": false
   },
   "outputs": [
    {
     "data": {
      "text/plain": [
       "(478, 125, 7)"
      ]
     },
     "execution_count": 80,
     "metadata": {},
     "output_type": "execute_result"
    }
   ],
   "source": [
    "np.array(y).shape"
   ]
  },
  {
   "cell_type": "code",
   "execution_count": null,
   "metadata": {
    "collapsed": false
   },
   "outputs": [],
   "source": []
  },
  {
   "cell_type": "code",
   "execution_count": 81,
   "metadata": {
    "collapsed": false
   },
   "outputs": [],
   "source": [
    "X_tr1 = X_pos"
   ]
  },
  {
   "cell_type": "code",
   "execution_count": 82,
   "metadata": {
    "collapsed": false
   },
   "outputs": [],
   "source": [
    "X_tr = X_words"
   ]
  },
  {
   "cell_type": "code",
   "execution_count": 83,
   "metadata": {
    "collapsed": true
   },
   "outputs": [],
   "source": [
    "y_tr1 = y"
   ]
  },
  {
   "cell_type": "code",
   "execution_count": 84,
   "metadata": {
    "collapsed": true
   },
   "outputs": [],
   "source": [
    "y_tr = y"
   ]
  },
  {
   "cell_type": "code",
   "execution_count": 85,
   "metadata": {
    "collapsed": true
   },
   "outputs": [],
   "source": [
    "# X_tr1, X_te1, y_tr1, y_te1 = train_test_split(X_pos, y, test_size=0.15,random_state=42)"
   ]
  },
  {
   "cell_type": "code",
   "execution_count": 86,
   "metadata": {
    "collapsed": true
   },
   "outputs": [],
   "source": [
    "# X_tr2, X_te2, y_tr2, y_te2 = train_test_split(X_font, y, test_size=0.15,random_state=42)"
   ]
  },
  {
   "cell_type": "code",
   "execution_count": 87,
   "metadata": {
    "collapsed": false
   },
   "outputs": [],
   "source": [
    "# X_tr, X_te, y_tr, y_te = train_test_split(X_words, y, test_size=0.15,random_state=42)"
   ]
  },
  {
   "cell_type": "code",
   "execution_count": null,
   "metadata": {
    "collapsed": false
   },
   "outputs": [],
   "source": []
  },
  {
   "cell_type": "code",
   "execution_count": 88,
   "metadata": {
    "collapsed": true
   },
   "outputs": [],
   "source": [
    "f = open(\"testDataPos.txt\",'r')\n",
    "X_te1 = pickle.load(f)\n",
    "f.close()\n",
    "\n",
    "f1 = open(\"testDataY.txt\",'r')\n",
    "y_te = pickle.load(f1)\n",
    "f1.close()\n",
    "\n",
    "f2 = open(\"testDataWords.txt\",'r')\n",
    "X_te = pickle.load(f2)\n",
    "f2.close()"
   ]
  },
  {
   "cell_type": "code",
   "execution_count": 89,
   "metadata": {
    "collapsed": false
   },
   "outputs": [
    {
     "data": {
      "text/plain": [
       "(478, 125, 7)"
      ]
     },
     "execution_count": 89,
     "metadata": {},
     "output_type": "execute_result"
    }
   ],
   "source": [
    "np.array(y_tr).shape"
   ]
  },
  {
   "cell_type": "code",
   "execution_count": 90,
   "metadata": {
    "collapsed": true
   },
   "outputs": [],
   "source": [
    "import keras\n",
    "from keras.models import Model, Input\n",
    "from keras.layers import LSTM, Embedding, Dense, TimeDistributed, Dropout, Bidirectional\n",
    "from keras.layers.convolutional import Conv1D\n",
    "from keras.layers.convolutional import MaxPooling1D\n",
    "from keras_contrib.layers import CRF"
   ]
  },
  {
   "cell_type": "code",
   "execution_count": 91,
   "metadata": {
    "collapsed": true
   },
   "outputs": [],
   "source": [
    "from keras import backend as K\n",
    "\n",
    "def f1(y_true, y_pred):\n",
    "    def recall(y_true, y_pred):\n",
    "        \"\"\"Recall metric.\n",
    "\n",
    "        Only computes a batch-wise average of recall.\n",
    "\n",
    "        Computes the recall, a metric for multi-label classification of\n",
    "        how many relevant items are selected.\n",
    "        \"\"\"\n",
    "        true_positives = K.sum(K.round(K.clip(y_true * y_pred, 0, 1)))\n",
    "        possible_positives = K.sum(K.round(K.clip(y_true, 0, 1)))\n",
    "        recall = true_positives / (possible_positives + K.epsilon())\n",
    "        return recall\n",
    "\n",
    "    def precision(y_true, y_pred):\n",
    "        \"\"\"Precision metric.\n",
    "\n",
    "        Only computes a batch-wise average of precision.\n",
    "\n",
    "        Computes the precision, a metric for multi-label classification of\n",
    "        how many selected items are relevant.\n",
    "        \"\"\"\n",
    "        true_positives = K.sum(K.round(K.clip(y_true * y_pred, 0, 1)))\n",
    "        predicted_positives = K.sum(K.round(K.clip(y_pred, 0, 1)))\n",
    "        precision = true_positives / (predicted_positives + K.epsilon())\n",
    "        return precision\n",
    "    precision = precision(y_true, y_pred)\n",
    "    recall = recall(y_true, y_pred)\n",
    "    return 2*((precision*recall)/(precision+recall))"
   ]
  },
  {
   "cell_type": "code",
   "execution_count": 92,
   "metadata": {
    "collapsed": false
   },
   "outputs": [],
   "source": [
    "word_input = Input(shape=(max_len,))\n",
    "word_emb = Embedding(input_dim=(n_words+250), output_dim=110,\n",
    "                     input_length=max_len)(word_input)\n",
    "\n",
    "pos_input = Input(shape=(max_len,))\n",
    "pos_emb = Embedding(input_dim=(n_pos+5), output_dim=15,\n",
    "                    input_length=max_len)(pos_input)\n",
    "\n",
    "# font_input = Input(shape=(max_len,))\n",
    "# font_emb = Embedding(input_dim=n_fonts, output_dim=15,\n",
    "#                     input_length=max_len)(font_input)\n",
    "\n",
    "\n",
    "model = keras.layers.concatenate([word_emb, pos_emb])\n",
    "# model = Bidirectional(LSTM(units=50, return_sequences=True,\n",
    "#                            recurrent_dropout=0.1))(model)\n",
    "\n",
    "# model = Embedding(input_dim=n_words, output_dim=110, input_length=max_len)(input)\n",
    "\n",
    "model = Conv1D(filters=32, kernel_size=3, padding='same', activation='relu')(model)\n",
    "# model = MaxPooling1D(pool_size=1)(model)\n",
    "model = Dropout(0.1)(model)\n",
    "model = Bidirectional(LSTM(units=100, return_sequences=True, recurrent_dropout=0.1))(model)  # variational biLSTM\n",
    "model = TimeDistributed(Dense(n_tags, activation=\"softmax\"))(model)  # softmax output layer\n",
    "crf = CRF(n_tags)  # CRF layer\n",
    "out = crf(model)"
   ]
  },
  {
   "cell_type": "code",
   "execution_count": 93,
   "metadata": {
    "collapsed": false
   },
   "outputs": [],
   "source": [
    "model = Model([word_input,pos_input], out)"
   ]
  },
  {
   "cell_type": "code",
   "execution_count": 94,
   "metadata": {
    "collapsed": true
   },
   "outputs": [],
   "source": [
    "model.compile(optimizer=\"rmsprop\", loss=crf.loss_function, metrics=[crf.accuracy])"
   ]
  },
  {
   "cell_type": "code",
   "execution_count": 95,
   "metadata": {
    "collapsed": false
   },
   "outputs": [
    {
     "data": {
      "text/plain": [
       "(478, 125)"
      ]
     },
     "execution_count": 95,
     "metadata": {},
     "output_type": "execute_result"
    }
   ],
   "source": [
    "X_tr.shape"
   ]
  },
  {
   "cell_type": "code",
   "execution_count": 96,
   "metadata": {
    "collapsed": false
   },
   "outputs": [
    {
     "data": {
      "text/plain": [
       "(478, 125, 7)"
      ]
     },
     "execution_count": 96,
     "metadata": {},
     "output_type": "execute_result"
    }
   ],
   "source": [
    "np.array(y_tr).shape"
   ]
  },
  {
   "cell_type": "code",
   "execution_count": null,
   "metadata": {
    "collapsed": false
   },
   "outputs": [],
   "source": []
  },
  {
   "cell_type": "code",
   "execution_count": 97,
   "metadata": {
    "collapsed": false
   },
   "outputs": [
    {
     "name": "stdout",
     "output_type": "stream",
     "text": [
      "Train on 430 samples, validate on 48 samples\n",
      "Epoch 1/40\n",
      "430/430 [==============================] - 28s 66ms/step - loss: 0.9001 - viterbi_acc: 0.8923 - val_loss: 0.7409 - val_viterbi_acc: 0.8937\n",
      "Epoch 2/40\n",
      "430/430 [==============================] - 28s 64ms/step - loss: 0.6178 - viterbi_acc: 0.8936 - val_loss: 0.5101 - val_viterbi_acc: 0.8937\n",
      "Epoch 3/40\n",
      "430/430 [==============================] - 27s 62ms/step - loss: 0.4329 - viterbi_acc: 0.8936 - val_loss: 0.3723 - val_viterbi_acc: 0.8937\n",
      "Epoch 4/40\n",
      "430/430 [==============================] - 27s 62ms/step - loss: 0.3289 - viterbi_acc: 0.8936 - val_loss: 0.3005 - val_viterbi_acc: 0.8937\n",
      "Epoch 5/40\n",
      "430/430 [==============================] - 27s 63ms/step - loss: 0.2690 - viterbi_acc: 0.8938 - val_loss: 0.2462 - val_viterbi_acc: 0.8937\n",
      "Epoch 6/40\n",
      "430/430 [==============================] - 27s 63ms/step - loss: 0.2252 - viterbi_acc: 0.8944 - val_loss: 0.2201 - val_viterbi_acc: 0.8980\n",
      "Epoch 7/40\n",
      "430/430 [==============================] - 27s 63ms/step - loss: 0.2016 - viterbi_acc: 0.8994 - val_loss: 0.2052 - val_viterbi_acc: 0.9003\n",
      "Epoch 8/40\n",
      "430/430 [==============================] - 27s 63ms/step - loss: 0.1835 - viterbi_acc: 0.9101 - val_loss: 0.1817 - val_viterbi_acc: 0.9063\n",
      "Epoch 9/40\n",
      "430/430 [==============================] - 27s 63ms/step - loss: 0.1578 - viterbi_acc: 0.9198 - val_loss: 0.1634 - val_viterbi_acc: 0.9215\n",
      "Epoch 10/40\n",
      "430/430 [==============================] - 27s 62ms/step - loss: 0.1410 - viterbi_acc: 0.9289 - val_loss: 0.1538 - val_viterbi_acc: 0.9233\n",
      "Epoch 11/40\n",
      "430/430 [==============================] - 28s 64ms/step - loss: 0.1272 - viterbi_acc: 0.9470 - val_loss: 0.1440 - val_viterbi_acc: 0.9375\n",
      "Epoch 12/40\n",
      "430/430 [==============================] - 27s 63ms/step - loss: 0.1162 - viterbi_acc: 0.9510 - val_loss: 0.1356 - val_viterbi_acc: 0.9422\n",
      "Epoch 13/40\n",
      "430/430 [==============================] - 28s 64ms/step - loss: 0.1034 - viterbi_acc: 0.9567 - val_loss: 0.1292 - val_viterbi_acc: 0.9470\n",
      "Epoch 14/40\n",
      "430/430 [==============================] - 27s 63ms/step - loss: 0.0938 - viterbi_acc: 0.9597 - val_loss: 0.1239 - val_viterbi_acc: 0.9458\n",
      "Epoch 15/40\n",
      "430/430 [==============================] - 28s 64ms/step - loss: 0.0849 - viterbi_acc: 0.9618 - val_loss: 0.1186 - val_viterbi_acc: 0.9487\n",
      "Epoch 16/40\n",
      "430/430 [==============================] - 27s 64ms/step - loss: 0.0767 - viterbi_acc: 0.9634 - val_loss: 0.1187 - val_viterbi_acc: 0.9443\n",
      "Epoch 17/40\n",
      "430/430 [==============================] - 27s 64ms/step - loss: 0.0698 - viterbi_acc: 0.9648 - val_loss: 0.1259 - val_viterbi_acc: 0.9388\n",
      "Epoch 18/40\n",
      "430/430 [==============================] - 27s 64ms/step - loss: 0.0635 - viterbi_acc: 0.9702 - val_loss: 0.1085 - val_viterbi_acc: 0.9513\n",
      "Epoch 19/40\n",
      "430/430 [==============================] - 28s 64ms/step - loss: 0.0580 - viterbi_acc: 0.9709 - val_loss: 0.1164 - val_viterbi_acc: 0.9423\n",
      "Epoch 20/40\n",
      "430/430 [==============================] - 28s 64ms/step - loss: 0.0525 - viterbi_acc: 0.9716 - val_loss: 0.1070 - val_viterbi_acc: 0.9498\n",
      "Epoch 21/40\n",
      "430/430 [==============================] - 27s 63ms/step - loss: 0.0482 - viterbi_acc: 0.9727 - val_loss: 0.1064 - val_viterbi_acc: 0.9447\n",
      "Epoch 22/40\n",
      "430/430 [==============================] - 27s 64ms/step - loss: 0.0443 - viterbi_acc: 0.9764 - val_loss: 0.1080 - val_viterbi_acc: 0.9502\n",
      "Epoch 23/40\n",
      "430/430 [==============================] - 28s 64ms/step - loss: 0.0404 - viterbi_acc: 0.9792 - val_loss: 0.1140 - val_viterbi_acc: 0.9465\n",
      "Epoch 24/40\n",
      "430/430 [==============================] - 28s 65ms/step - loss: 0.0367 - viterbi_acc: 0.9798 - val_loss: 0.1054 - val_viterbi_acc: 0.9505\n",
      "Epoch 25/40\n",
      "430/430 [==============================] - 28s 65ms/step - loss: 0.0336 - viterbi_acc: 0.9796 - val_loss: 0.1055 - val_viterbi_acc: 0.9495\n",
      "Epoch 26/40\n",
      "430/430 [==============================] - 28s 64ms/step - loss: 0.0303 - viterbi_acc: 0.9801 - val_loss: 0.1045 - val_viterbi_acc: 0.9562\n",
      "Epoch 27/40\n",
      "430/430 [==============================] - 28s 65ms/step - loss: 0.0281 - viterbi_acc: 0.9800 - val_loss: 0.1050 - val_viterbi_acc: 0.9498\n",
      "Epoch 28/40\n",
      "430/430 [==============================] - 28s 64ms/step - loss: 0.0254 - viterbi_acc: 0.9805 - val_loss: 0.1088 - val_viterbi_acc: 0.9532\n",
      "Epoch 29/40\n",
      "430/430 [==============================] - 28s 65ms/step - loss: 0.0227 - viterbi_acc: 0.9815 - val_loss: 0.1047 - val_viterbi_acc: 0.9507\n",
      "Epoch 30/40\n",
      "430/430 [==============================] - 28s 65ms/step - loss: 0.0209 - viterbi_acc: 0.9817 - val_loss: 0.1010 - val_viterbi_acc: 0.9557\n",
      "Epoch 31/40\n",
      "430/430 [==============================] - 28s 65ms/step - loss: 0.0181 - viterbi_acc: 0.9829 - val_loss: 0.1037 - val_viterbi_acc: 0.9507\n",
      "Epoch 32/40\n",
      "430/430 [==============================] - 28s 65ms/step - loss: 0.0171 - viterbi_acc: 0.9824 - val_loss: 0.1066 - val_viterbi_acc: 0.9523\n",
      "Epoch 33/40\n",
      "430/430 [==============================] - 28s 65ms/step - loss: 0.0138 - viterbi_acc: 0.9869 - val_loss: 0.1068 - val_viterbi_acc: 0.9525\n",
      "Epoch 34/40\n",
      "430/430 [==============================] - 28s 66ms/step - loss: 0.0124 - viterbi_acc: 0.9885 - val_loss: 0.1097 - val_viterbi_acc: 0.9518\n",
      "Epoch 35/40\n",
      "430/430 [==============================] - 28s 65ms/step - loss: 0.0111 - viterbi_acc: 0.9866 - val_loss: 0.1042 - val_viterbi_acc: 0.9502\n",
      "Epoch 36/40\n",
      "430/430 [==============================] - 28s 64ms/step - loss: 0.0083 - viterbi_acc: 0.9873 - val_loss: 0.1052 - val_viterbi_acc: 0.9522\n",
      "Epoch 37/40\n",
      "430/430 [==============================] - 28s 65ms/step - loss: 0.0070 - viterbi_acc: 0.9891 - val_loss: 0.1036 - val_viterbi_acc: 0.9527\n",
      "Epoch 38/40\n",
      "430/430 [==============================] - 28s 65ms/step - loss: 0.0047 - viterbi_acc: 0.9891 - val_loss: 0.1136 - val_viterbi_acc: 0.9463\n",
      "Epoch 39/40\n",
      "430/430 [==============================] - 28s 65ms/step - loss: 0.0034 - viterbi_acc: 0.9897 - val_loss: 0.1057 - val_viterbi_acc: 0.9532\n",
      "Epoch 40/40\n",
      "430/430 [==============================] - 28s 65ms/step - loss: 0.0011 - viterbi_acc: 0.9897 - val_loss: 0.1062 - val_viterbi_acc: 0.9502\n"
     ]
    }
   ],
   "source": [
    "history = model.fit([X_tr,X_tr1], np.array(y_tr), batch_size=5, epochs=40, validation_split=0.1, verbose=1)"
   ]
  },
  {
   "cell_type": "code",
   "execution_count": null,
   "metadata": {
    "collapsed": true
   },
   "outputs": [],
   "source": []
  },
  {
   "cell_type": "code",
   "execution_count": 864,
   "metadata": {
    "collapsed": true
   },
   "outputs": [],
   "source": [
    "import matplotlib.pyplot as plt"
   ]
  },
  {
   "cell_type": "code",
   "execution_count": 865,
   "metadata": {
    "collapsed": true
   },
   "outputs": [],
   "source": [
    "%matplotlib inline"
   ]
  },
  {
   "cell_type": "code",
   "execution_count": 866,
   "metadata": {
    "collapsed": false
   },
   "outputs": [
    {
     "ename": "KeyError",
     "evalue": "'acc'",
     "output_type": "error",
     "traceback": [
      "\u001b[0;31m---------------------------------------------------------------------------\u001b[0m",
      "\u001b[0;31mKeyError\u001b[0m                                  Traceback (most recent call last)",
      "\u001b[0;32m<ipython-input-866-45a254586eb3>\u001b[0m in \u001b[0;36m<module>\u001b[0;34m()\u001b[0m\n\u001b[0;32m----> 1\u001b[0;31m \u001b[0mplt\u001b[0m\u001b[0;34m.\u001b[0m\u001b[0mplot\u001b[0m\u001b[0;34m(\u001b[0m\u001b[0mhistory\u001b[0m\u001b[0;34m.\u001b[0m\u001b[0mhistory\u001b[0m\u001b[0;34m[\u001b[0m\u001b[0;34m'acc'\u001b[0m\u001b[0;34m]\u001b[0m\u001b[0;34m)\u001b[0m\u001b[0;34m\u001b[0m\u001b[0m\n\u001b[0m\u001b[1;32m      2\u001b[0m \u001b[0mplt\u001b[0m\u001b[0;34m.\u001b[0m\u001b[0mplot\u001b[0m\u001b[0;34m(\u001b[0m\u001b[0mhistory\u001b[0m\u001b[0;34m.\u001b[0m\u001b[0mhistory\u001b[0m\u001b[0;34m[\u001b[0m\u001b[0;34m'val_acc'\u001b[0m\u001b[0;34m]\u001b[0m\u001b[0;34m)\u001b[0m\u001b[0;34m\u001b[0m\u001b[0m\n\u001b[1;32m      3\u001b[0m \u001b[0mplt\u001b[0m\u001b[0;34m.\u001b[0m\u001b[0mtitle\u001b[0m\u001b[0;34m(\u001b[0m\u001b[0;34m'model accuracy'\u001b[0m\u001b[0;34m)\u001b[0m\u001b[0;34m\u001b[0m\u001b[0m\n\u001b[1;32m      4\u001b[0m \u001b[0mplt\u001b[0m\u001b[0;34m.\u001b[0m\u001b[0mylabel\u001b[0m\u001b[0;34m(\u001b[0m\u001b[0;34m'accuracy'\u001b[0m\u001b[0;34m)\u001b[0m\u001b[0;34m\u001b[0m\u001b[0m\n\u001b[1;32m      5\u001b[0m \u001b[0mplt\u001b[0m\u001b[0;34m.\u001b[0m\u001b[0mxlabel\u001b[0m\u001b[0;34m(\u001b[0m\u001b[0;34m'epoch'\u001b[0m\u001b[0;34m)\u001b[0m\u001b[0;34m\u001b[0m\u001b[0m\n",
      "\u001b[0;31mKeyError\u001b[0m: 'acc'"
     ]
    }
   ],
   "source": [
    "plt.plot(history.history['acc'])\n",
    "plt.plot(history.history['val_acc'])\n",
    "plt.title('model accuracy')\n",
    "plt.ylabel('accuracy')\n",
    "plt.xlabel('epoch')\n",
    "plt.legend(['train', 'test'], loc='upper left')\n",
    "plt.show()"
   ]
  },
  {
   "cell_type": "code",
   "execution_count": 867,
   "metadata": {
    "collapsed": false
   },
   "outputs": [
    {
     "data": {
      "image/png": "[encoded data removed]",
      "text/plain": [
       "<matplotlib.figure.Figure at 0x7f0d9c9e9dd0>"
      ]
     },
     "metadata": {},
     "output_type": "display_data"
    }
   ],
   "source": [
    "plt.plot(history.history['loss'])\n",
    "# plt.plot(history.history['val_loss'])\n",
    "plt.title('model loss')\n",
    "plt.ylabel('loss')\n",
    "plt.xlabel('epoch')\n",
    "# plt.legend(['train', 'test'], loc='upper left')\n",
    "plt.show()"
   ]
  },
  {
   "cell_type": "code",
   "execution_count": null,
   "metadata": {
    "collapsed": false
   },
   "outputs": [],
   "source": [
    "# history = model.fit(X_tr, np.array(y_tr), batch_size=32, epochs=100, validation_split=0.1, verbose=1)"
   ]
  },
  {
   "cell_type": "code",
   "execution_count": 98,
   "metadata": {
    "collapsed": false
   },
   "outputs": [],
   "source": [
    "i = 3\n",
    "y_pred = model.predict([np.array([X_te[i]]),np.array([X_te1[i]])])\n",
    "p= y_pred\n",
    "p = np.argmax(p, axis=-1)"
   ]
  },
  {
   "cell_type": "code",
   "execution_count": null,
   "metadata": {
    "collapsed": false
   },
   "outputs": [],
   "source": []
  },
  {
   "cell_type": "code",
   "execution_count": 99,
   "metadata": {
    "collapsed": false
   },
   "outputs": [
    {
     "data": {
      "text/plain": [
       "array([3, 3, 3, 3, 3, 3, 3, 3, 3, 3, 3, 3, 5, 6, 0, 0, 1, 2, 3, 3, 3, 3, 3,\n",
       "       3, 3, 3, 3, 3, 3, 3, 3, 3, 5, 6, 0, 3, 3, 3, 3, 3, 3, 3, 3, 3, 3, 3,\n",
       "       3, 3, 3, 3, 3, 3, 3, 3, 3, 3, 3, 3, 3, 3, 3, 3, 3, 3, 3, 3, 3, 3, 3,\n",
       "       3, 3, 3, 3, 3, 3, 3, 3, 3, 3, 3, 3, 3, 3, 3, 3, 3, 3, 3, 3, 3, 3, 3,\n",
       "       3, 3, 3, 3, 3, 3, 3, 3, 3, 3, 3, 3, 3, 3, 3, 3, 3, 3, 3, 3, 3, 3, 3,\n",
       "       3, 3, 3, 3, 3, 3, 3, 3, 3, 3])"
      ]
     },
     "execution_count": 99,
     "metadata": {},
     "output_type": "execute_result"
    }
   ],
   "source": [
    "np.argmax(y_pred[0], axis=-1)"
   ]
  },
  {
   "cell_type": "code",
   "execution_count": 100,
   "metadata": {
    "collapsed": false
   },
   "outputs": [
    {
     "data": {
      "text/plain": [
       "array([3, 3, 3, 3, 3, 3, 3, 3, 3, 3, 3, 3, 5, 6, 0, 0, 3, 3, 3, 3, 3, 3, 3,\n",
       "       3, 3, 3, 3, 3, 3, 3, 3, 3, 5, 6, 0, 3, 3, 3, 3, 3, 3, 3, 3, 3, 3, 3,\n",
       "       3, 3, 3, 3, 3, 3, 3, 3, 3, 3, 3, 3, 3, 3, 3, 3, 3, 3, 3, 3, 3, 3, 3,\n",
       "       3, 3, 3, 3, 3, 3, 3, 3, 3, 3, 3, 3, 3, 3, 3, 3, 3, 3, 3, 3, 3, 3, 3,\n",
       "       3, 3, 3, 3, 3, 3, 3, 3, 3, 3, 3, 3, 3, 3, 3, 3, 3, 3, 3, 3, 3, 3, 3,\n",
       "       3, 3, 3, 3, 3, 3, 3, 3, 3, 3])"
      ]
     },
     "execution_count": 100,
     "metadata": {},
     "output_type": "execute_result"
    }
   ],
   "source": [
    "np.argmax(y_te[i], axis=-1)"
   ]
  },
  {
   "cell_type": "code",
   "execution_count": 101,
   "metadata": {
    "collapsed": false
   },
   "outputs": [],
   "source": [
    "y_true = y_te[i]"
   ]
  },
  {
   "cell_type": "code",
   "execution_count": 6,
   "metadata": {
    "collapsed": false
   },
   "outputs": [],
   "source": [
    "# X_te[1]"
   ]
  },
  {
   "cell_type": "code",
   "execution_count": 4,
   "metadata": {
    "collapsed": false
   },
   "outputs": [],
   "source": [
    "# y_pred[0]"
   ]
  },
  {
   "cell_type": "code",
   "execution_count": 5,
   "metadata": {
    "collapsed": false
   },
   "outputs": [],
   "source": [
    "# np.array(y_true)"
   ]
  },
  {
   "cell_type": "code",
   "execution_count": 105,
   "metadata": {
    "collapsed": false
   },
   "outputs": [
    {
     "name": "stdout",
     "output_type": "stream",
     "text": [
      "Word            : Pred\n",
      "years          : O\n",
      "of             : O\n",
      "study          : O\n",
      "name           : O\n",
      "of             : O\n",
      "degree         : O\n",
      "institute      : O\n",
      "/              : O\n",
      "university     : O\n",
      "marks          : O\n",
      "%              : O\n",
      "2006-2009      : O\n",
      "mca            : U-DEG\n",
      "guru           : B-INST\n",
      "jambheshwar    : I-INST\n",
      "university     : I-INST\n",
      "hisar          : B-DEG\n",
      "haryana        : I-DEG\n",
      "india          : O\n",
      "59%            : O\n",
      "years          : O\n",
      "of             : O\n",
      "study          : O\n",
      "name           : O\n",
      "of             : O\n",
      "degree         : O\n",
      "institute      : O\n",
      "/              : O\n",
      "university     : O\n",
      "marks          : O\n",
      "%              : O\n",
      "2000-2003      : O\n",
      "b.com          : U-DEG\n",
      "mds            : B-INST\n",
      "university     : I-INST\n",
      "ajmer          : O\n",
      "51%            : O\n",
      "ENDPAD         : O\n",
      "ENDPAD         : O\n",
      "ENDPAD         : O\n",
      "ENDPAD         : O\n",
      "ENDPAD         : O\n",
      "ENDPAD         : O\n",
      "ENDPAD         : O\n",
      "ENDPAD         : O\n",
      "ENDPAD         : O\n",
      "ENDPAD         : O\n",
      "ENDPAD         : O\n",
      "ENDPAD         : O\n",
      "ENDPAD         : O\n",
      "ENDPAD         : O\n",
      "ENDPAD         : O\n",
      "ENDPAD         : O\n",
      "ENDPAD         : O\n",
      "ENDPAD         : O\n",
      "ENDPAD         : O\n",
      "ENDPAD         : O\n",
      "ENDPAD         : O\n",
      "ENDPAD         : O\n",
      "ENDPAD         : O\n",
      "ENDPAD         : O\n",
      "ENDPAD         : O\n",
      "ENDPAD         : O\n",
      "ENDPAD         : O\n",
      "ENDPAD         : O\n",
      "ENDPAD         : O\n",
      "ENDPAD         : O\n",
      "ENDPAD         : O\n",
      "ENDPAD         : O\n",
      "ENDPAD         : O\n",
      "ENDPAD         : O\n",
      "ENDPAD         : O\n",
      "ENDPAD         : O\n",
      "ENDPAD         : O\n",
      "ENDPAD         : O\n",
      "ENDPAD         : O\n",
      "ENDPAD         : O\n",
      "ENDPAD         : O\n",
      "ENDPAD         : O\n",
      "ENDPAD         : O\n",
      "ENDPAD         : O\n",
      "ENDPAD         : O\n",
      "ENDPAD         : O\n",
      "ENDPAD         : O\n",
      "ENDPAD         : O\n",
      "ENDPAD         : O\n",
      "ENDPAD         : O\n",
      "ENDPAD         : O\n",
      "ENDPAD         : O\n",
      "ENDPAD         : O\n",
      "ENDPAD         : O\n",
      "ENDPAD         : O\n",
      "ENDPAD         : O\n",
      "ENDPAD         : O\n",
      "ENDPAD         : O\n",
      "ENDPAD         : O\n",
      "ENDPAD         : O\n",
      "ENDPAD         : O\n",
      "ENDPAD         : O\n",
      "ENDPAD         : O\n",
      "ENDPAD         : O\n",
      "ENDPAD         : O\n",
      "ENDPAD         : O\n",
      "ENDPAD         : O\n",
      "ENDPAD         : O\n",
      "ENDPAD         : O\n",
      "ENDPAD         : O\n",
      "ENDPAD         : O\n",
      "ENDPAD         : O\n",
      "ENDPAD         : O\n",
      "ENDPAD         : O\n",
      "ENDPAD         : O\n",
      "ENDPAD         : O\n",
      "ENDPAD         : O\n",
      "ENDPAD         : O\n",
      "ENDPAD         : O\n",
      "ENDPAD         : O\n",
      "ENDPAD         : O\n",
      "ENDPAD         : O\n",
      "ENDPAD         : O\n",
      "ENDPAD         : O\n",
      "ENDPAD         : O\n",
      "ENDPAD         : O\n",
      "ENDPAD         : O\n",
      "ENDPAD         : O\n"
     ]
    }
   ],
   "source": [
    "print(\"{:15} : {}\".format(\"Word\", \"Pred\"))\n",
    "for w, pred in zip(X_te[i], p[0]):\n",
    "    print(\"{:15}: {}\".format(wuniq[w], tuniq[pred]))"
   ]
  },
  {
   "cell_type": "code",
   "execution_count": 106,
   "metadata": {
    "collapsed": false
   },
   "outputs": [],
   "source": [
    "output = pd.DataFrame(columns=[\"words\",\"pos\",\"correct\",\"predicted\"])"
   ]
  },
  {
   "cell_type": "code",
   "execution_count": 107,
   "metadata": {
    "collapsed": false
   },
   "outputs": [],
   "source": [
    "for i in range(len(X_te)):\n",
    "    y_pred = model.predict([np.array([X_te[i]]),np.array([X_te1[i]])])\n",
    "    p= y_pred\n",
    "    p = np.argmax(p, axis=-1)\n",
    "    for x in range(len(X_te[i])):\n",
    "        output = output.append({\"words\":wuniq[X_te[i][x]],\"pos\":puniq[X_te1[i][x]],\"correct\":tuniq[np.argmax(y_te[i],axis=-1)[x]],\"predicted\":tuniq[p[0][x]]},ignore_index=True)\n",
    "    output = output[~(output[\"words\"]==\"ENDPAD\")]\n",
    "#     output = output.append({\"words\":\"-X-\",\"pos\":\"\",\"correct\":\"\",\"predicted\":\"\"},ignore_index=True)"
   ]
  },
  {
   "cell_type": "code",
   "execution_count": 108,
   "metadata": {
    "collapsed": true
   },
   "outputs": [],
   "source": [
    "output = output.reset_index(drop=True)"
   ]
  },
  {
   "cell_type": "code",
   "execution_count": 109,
   "metadata": {
    "collapsed": true
   },
   "outputs": [],
   "source": [
    "for i in range(len(output[\"words\"])):\n",
    "    if len(output[\"words\"].iloc[i].split(\" \"))>1:\n",
    "        output[\"words\"].iloc[i] = (output[\"words\"].iloc[i]).replace(\" \",\"\")"
   ]
  },
  {
   "cell_type": "code",
   "execution_count": 110,
   "metadata": {
    "collapsed": false
   },
   "outputs": [],
   "source": [
    "output.to_csv(\"outputdeginstagain1.txt\",sep=\" \",index=False,header=False)"
   ]
  },
  {
   "cell_type": "code",
   "execution_count": null,
   "metadata": {
    "collapsed": false
   },
   "outputs": [],
   "source": []
  },
  {
   "cell_type": "code",
   "execution_count": null,
   "metadata": {
    "collapsed": false
   },
   "outputs": [],
   "source": [
    "-----------------Checking Normalisation-----------------------------------"
   ]
  },
  {
   "cell_type": "code",
   "execution_count": 111,
   "metadata": {
    "collapsed": false
   },
   "outputs": [],
   "source": [
    "def newData(df,fname,iterNo):\n",
    "    doc1 = []\n",
    "    predN1 = []\n",
    "    global wuniq,puniq,model,X_tr,X_tr1\n",
    "    newUWords = list(df[\"data\"].unique())\n",
    "    newUTags = list(df[\"POStags\"].unique())\n",
    "    newWords = list(df[\"data\"])\n",
    "    newPOSTags = list(df[\"POStags\"])\n",
    "    datacleaning([newWords])\n",
    "    datacleaning([newUWords])\n",
    "    for x in newUWords:\n",
    "        if x not in wuniq:\n",
    "            print \"yes \",x\n",
    "            wuniq.append(x)\n",
    "    for x in newUTags:\n",
    "        if x not in puniq:\n",
    "            print \"pos new\",x\n",
    "            puniq.append(x)\n",
    "    word2idx = {w: i for i, w in enumerate(wuniq)}\n",
    "    pos2idx = {p: i for i, p in enumerate(puniq)}\n",
    "    X_new = [[word2idx[w] for w in newWords]]\n",
    "    X_postags = [[pos2idx[w] for w in newPOSTags]]\n",
    "    X_new = pad_sequences(maxlen=max_len, sequences=X_new, padding=\"post\", value=word2idx[\"ENDPAD\"])\n",
    "    X_postags = pad_sequences(maxlen=max_len, sequences=X_postags, padding=\"post\", value=pos2idx[\"$\"])\n",
    "    X_tr = np.concatenate((X_tr,X_new))\n",
    "    print len(X_tr)\n",
    "    X_tr1 = np.concatenate((X_tr1,X_postags))\n",
    "    y_pred = model.predict([X_new,X_postags])\n",
    "    p= y_pred\n",
    "    p = np.argmax(p, axis=-1)\n",
    "    print p[0]\n",
    "    for w, pred in zip(X_new[0],p[0]):\n",
    "        if wuniq[w]!=\"ENDPAD\":\n",
    "            doc1.append(wuniq[w])\n",
    "            predN1.append(tuniq[pred])\n",
    "        print(\"{:15}: {}\".format(wuniq[w], tuniq[pred]))\n",
    "    print \"------------\"\n",
    "#     print doc1\n",
    "#     print predN1\n",
    "    temp = pd.DataFrame(doc1,columns=[\"data\"])\n",
    "    temp[\"pred\"] = predN1\n",
    "    temp.to_csv(\"/home/karan/FinalModel/Predictions/Set\"+str(iterNo)+\"/\"+fname)"
   ]
  },
  {
   "cell_type": "code",
   "execution_count": null,
   "metadata": {
    "collapsed": false
   },
   "outputs": [],
   "source": []
  },
  {
   "cell_type": "code",
   "execution_count": 7,
   "metadata": {
    "collapsed": false
   },
   "outputs": [],
   "source": [
    "path = \"/home/karan/FinalModel/CleanPredictions/checkOn/Set12/\"\n",
    "filesDone=0\n",
    "iterNo=12\n",
    "for fname in file_names(path):\n",
    "    df = pd.read_csv(path+fname)\n",
    "    df = df[~pd.isnull(df[\"data\"])]\n",
    "    df[\"POStags\"] = df[\"POStags\"].apply(colonToSYM)\n",
    "    df[\"data\"] = df[\"data\"].apply(lower1)\n",
    "    newData(df,fname,iterNo)\n",
    "    filesDone+=1"
   ]
  },
  {
   "cell_type": "code",
   "execution_count": 285,
   "metadata": {
    "collapsed": false
   },
   "outputs": [],
   "source": [
    "def reTrain(iterNo):\n",
    "    global y_tr\n",
    "    pos2idx = {p: i for i, p in enumerate(puniq)}\n",
    "    n_words = len(wuniq)\n",
    "    n_pos = len(puniq)\n",
    "    for x in file_names(\"/home/karan/FinalModel/Cleaned/Set\"+str(iterNo)+\"/\"):\n",
    "        df1 = pd.read_csv(\"/home/karan/FinalModel/Cleaned/Set\"+str(iterNo)+\"/\"+x)\n",
    "        print df1\n",
    "        y_new = df1[\"new\"]\n",
    "        y_new2 = [[tag2idx[w] for w in y_new]]\n",
    "        y_new2 = pad_sequences(maxlen=max_len, sequences=y_new2, padding=\"post\", value=tag2idx[\"O\"])\n",
    "        y_new2 = [to_categorical(i, num_classes=n_tags) for i in y_new2]\n",
    "        y_tr = np.concatenate((y_tr,y_new2))\n",
    "    print len(y_tr)\n",
    "#         history = model.fit([X_tr,X_tr1], np.array(y_tr), batch_size=5, epochs=20, validation_split=0.1, verbose=1)"
   ]
  },
  {
   "cell_type": "code",
   "execution_count": null,
   "metadata": {
    "collapsed": false
   },
   "outputs": [],
   "source": []
  },
  {
   "cell_type": "code",
   "execution_count": 286,
   "metadata": {
    "collapsed": false
   },
   "outputs": [
    {
     "name": "stdout",
     "output_type": "stream",
     "text": [
      "    Unnamed: 0            data     old     new\n",
      "0            0      university  B-INST  B-INST\n",
      "1            1              of  I-INST  I-INST\n",
      "2            2        redlands  I-INST  I-INST\n",
      "3            3          master   B-DEG   B-DEG\n",
      "4            4              of   I-DEG   I-DEG\n",
      "5            5        business   I-DEG   I-DEG\n",
      "6            6  administration   I-DEG   I-DEG\n",
      "7            7        emphasis       O       O\n",
      "8            8               -       O       O\n",
      "9            9       marketing       O       O\n",
      "10          10        redlands       O       O\n",
      "11          11              ca       O       O\n",
      "12          12            june       O       O\n",
      "13          13            2016       O       O\n",
      "14          14               -       O       O\n",
      "15          15         present       O       O\n",
      "16          16           saint  B-INST  B-INST\n",
      "17          17          mary's  I-INST  I-INST\n",
      "18          18         college  I-INST  I-INST\n",
      "19          19              of  I-INST  I-INST\n",
      "20          20      california  I-INST  I-INST\n",
      "21          21             b.a   U-DEG   U-DEG\n",
      "22          22     kinesiology       O       O\n",
      "23          23          sports       O       O\n",
      "24          24             and       O       O\n",
      "25          25      recreation       O       O\n",
      "26          26      management       O       O\n",
      "27          27           minor       O       O\n",
      "28          28        business       O       O\n",
      "29          29  administration       O       O\n",
      "30          30          moraga       O       O\n",
      "31          31              ca       O       O\n",
      "32          32             aug       O       O\n",
      "33          33            2011       O       O\n",
      "34          34               -       O       O\n",
      "35          35             may       O       O\n",
      "36          36            2015       O       O\n",
      "37          37     universidad  B-INST  B-INST\n",
      "38          38           pablo  I-INST  I-INST\n",
      "39          39              de  I-INST  I-INST\n",
      "40          40         olavide  I-INST  I-INST\n",
      "41          41            ciee       O       O\n",
      "42          42   international       O       O\n",
      "43          43        business       O       O\n",
      "44          44             and       O       O\n",
      "45          45         culture       O       O\n",
      "46          46           study       O       O\n",
      "47          47          abroad       O       O\n",
      "48          48         seville       O       O\n",
      "49          49           spain       O       O\n",
      "50          50             jan       O       O\n",
      "51          51            2014       O       O\n",
      "52          52               -       O       O\n",
      "53          53             may       O       O\n",
      "54          54            2014       O       O\n",
      "    Unnamed: 0        data     old     new\n",
      "0            0  university  B-INST  B-INST\n",
      "1            1          of  I-INST  I-INST\n",
      "2            2  california  I-INST  I-INST\n",
      "3            3         san       O       O\n",
      "4            4       diego       O       O\n",
      "5            5          la       O       O\n",
      "6            6       jolla       O       O\n",
      "7            7          ca       O       O\n",
      "8            8          ba   U-DEG   U-DEG\n",
      "9            9   cognitive       O       O\n",
      "10          10     science       O       O\n",
      "11          11         amp       O       O\n",
      "12          12   economics       O       O\n",
      "13          13   graduated       O       O\n",
      "14          14        with       O       O\n",
      "15          15      honors       O       O\n",
      "16          16      within       O       O\n",
      "17          17   cognitive       O       O\n",
      "18          18     science       O       O\n",
      "19          19  department       O       O\n",
      "    Unnamed: 0        data     old     new\n",
      "0            0   completed       O       O\n",
      "1            1   b.tech(it   U-DEG   U-DEG\n",
      "2            2        from       O       O\n",
      "3            3       noida  B-INST  B-INST\n",
      "4            4   institute  I-INST  I-INST\n",
      "5            5          of  I-INST  I-INST\n",
      "6            6        engg  I-INST  I-INST\n",
      "7            7         amp  I-INST  I-INST\n",
      "8            8  technology  I-INST  I-INST\n",
      "9            9        uptu  B-INST  U-INST\n",
      "10          10     greater  I-INST       O\n",
      "11          11       noida       O       O\n",
      "12          12        with       O       O\n",
      "13          13          an       O       O\n",
      "14          14   aggregate       O       O\n",
      "15          15          of       O       O\n",
      "16          16         70%       O       O\n",
      "17          17        12th   U-DEG   U-DEG\n",
      "18          18        from       O       O\n",
      "19          19       t.r.m  B-INST  B-INST\n",
      "20          20      public  I-INST  I-INST\n",
      "21          21      school  I-INST  I-INST\n",
      "22          22        cbse       O       O\n",
      "23          23          in       O       O\n",
      "24          24         the       O       O\n",
      "25          25        year       O       O\n",
      "26          26        2008       O       O\n",
      "27          27        with       O       O\n",
      "28          28          an       O       O\n",
      "29          29   aggregate       O       O\n",
      "30          30          of       O       O\n",
      "31          31       66.8%       O       O\n",
      "32          32        10th   U-DEG   U-DEG\n",
      "33          33        from       O       O\n",
      "34          34       t.r.m  B-INST  B-INST\n",
      "35          35      public  I-INST  I-INST\n",
      "36          36      school  I-INST  I-INST\n",
      "37          37        cbse       O       O\n",
      "38          38          in       O       O\n",
      "39          39         the       O       O\n",
      "40          40        year       O       O\n",
      "41          41        2006       O       O\n",
      "42          42        with       O       O\n",
      "43          43          an       O       O\n",
      "44          44   aggregate       O       O\n",
      "45          45          of       O       O\n",
      "46          46       60.2%       O       O\n",
      "   Unnamed: 0        data     old     new\n",
      "0           0  university  B-INST  B-INST\n",
      "1           1          of  I-INST  I-INST\n",
      "2           2  california  I-INST  I-INST\n",
      "3           3   riverside       O       O\n",
      "4           4   riverside       O       O\n",
      "5           5          ca       O       O\n",
      "6           6   graduated       O       O\n",
      "7           7        june       O       O\n",
      "8           8        2014       O       O\n",
      "9           9           #       O       O\n",
      "    Unnamed: 0                data     old     new\n",
      "0            0            bachelor   B-DEG   B-DEG\n",
      "1            1                  of   I-DEG   I-DEG\n",
      "2            2         engineering   I-DEG   I-DEG\n",
      "3            3                  in       O       O\n",
      "4            4         electronics       O       O\n",
      "5            5                 and       O       O\n",
      "6            6  telecommunications       O       O\n",
      "7            7               vssut       O  U-INST\n",
      "8            8            formerly       O       O\n",
      "9            9                 uce  U-INST  U-INST\n",
      "10          10           graduated       O       O\n",
      "11          11                   -       O       O\n",
      "12          12                2007       O       O\n",
      "13          13                2011       O       O\n",
      "14          14        intermediate   U-DEG   U-DEG\n",
      "15          15                chse       O       O\n",
      "16          16               board       O       O\n",
      "17          17               april       O       O\n",
      "18          18                2004       O       O\n",
      "19          19         matriculate  U-INST       O\n",
      "20          20              odisha       O       O\n",
      "21          21               board       O       O\n",
      "22          22               april       O       O\n",
      "23          23                2002       O       O\n",
      "   Unnamed: 0                data     old     new\n",
      "0           0                 gcu  U-INST  U-INST\n",
      "1           1              canyon       O       O\n",
      "2           2  universityusa)-sis       O       O\n",
      "    Unnamed: 0         data     old     new\n",
      "0            0       master   B-DEG   B-DEG\n",
      "1            1           of   I-DEG   I-DEG\n",
      "2            2   technology   I-DEG   I-DEG\n",
      "3            3   management       O       O\n",
      "4            4         3.90       O       O\n",
      "5            5          gpa       O       O\n",
      "6            6           uc  B-INST  B-INST\n",
      "7            7        santa  I-INST  I-INST\n",
      "8            8      barbara       O  I-INST\n",
      "9            9         june       O       O\n",
      "10          10         2017       O       O\n",
      "11          11           be   U-DEG   U-DEG\n",
      "12          12     chemical       O       O\n",
      "13          13  engineering       O       O\n",
      "14          14         3.54       O       O\n",
      "15          15          gpa       O       O\n",
      "16          16       honors       O       O\n",
      "17          17      amp; de       O       O\n",
      "18          18         an's       O       O\n",
      "19          19         list       O       O\n",
      "20          20           uc  B-INST  B-INST\n",
      "21          21        santa  I-INST  I-INST\n",
      "22          22      barbara  I-INST  I-INST\n",
      "23          23    september       O       O\n",
      "24          24         2015       O       O\n",
      "    Unnamed: 0         data     old     new\n",
      "0            0        brown  B-INST  B-INST\n",
      "1            1   university  I-INST  I-INST\n",
      "2            2   providence       O       O\n",
      "3            3           ri       O       O\n",
      "4            4          b.a   U-DEG   U-DEG\n",
      "5            5    economics       O       O\n",
      "6            6          may       O       O\n",
      "7            7         2016       O       O\n",
      "8            8          gpa       O       O\n",
      "9            9    3.75/4.00       O       O\n",
      "10          10  universidad  B-INST  B-INST\n",
      "11          11           de  I-INST  I-INST\n",
      "12          12      nebrija   I-DEG  I-INST\n",
      "13          13       madrid   U-DEG       O\n",
      "14          14        spain   I-DEG       O\n",
      "15          15    intensive       O       O\n",
      "16          16     language       O       O\n",
      "17          17    immersion       O       O\n",
      "18          18     december       O       O\n",
      "19          19         2013       O       O\n",
      "    Unnamed: 0        data     old     new\n",
      "0            0        city  B-INST  B-INST\n",
      "1            1  university  I-INST  I-INST\n",
      "2            2         new       O       O\n",
      "3            3        york       O       O\n",
      "4            4           -       O       O\n",
      "5            5      lehman  B-INST  B-INST\n",
      "6            6     college  I-INST  I-INST\n",
      "7            7    bachelor   B-DEG   B-DEG\n",
      "8            8          of   I-DEG   I-DEG\n",
      "9            9     science   I-DEG   I-DEG\n",
      "10          10           -       O       O\n",
      "11          11    computer       O       O\n",
      "12          12     science       O       O\n",
      "13          13         3.9       O       O\n",
      "14          14         gpa       O       O\n",
      "15          15       summa       O       O\n",
      "16          16         cum       O       O\n",
      "17          17       laude       O       O\n",
      "    Unnamed: 0            data     old     new\n",
      "0            0        monmouth  B-INST  B-INST\n",
      "1            1      university  I-INST  I-INST\n",
      "2            2               #       O       O\n",
      "3            3            west       O       O\n",
      "4            4            long       O       O\n",
      "5            5          branch       O       O\n",
      "6            6             new       O       O\n",
      "7            7          jersey       O       O\n",
      "8            8               #       O       O\n",
      "9            9             may       O       O\n",
      "10          10            2017       O       O\n",
      "11          11               #       O       O\n",
      "12          12        academic       O       O\n",
      "13          13        bachelor   B-DEG   B-DEG\n",
      "14          14              of   I-DEG   I-DEG\n",
      "15          15         science   I-DEG   I-DEG\n",
      "16          16              in       O       O\n",
      "17          17        business       O       O\n",
      "18          18  administration       O       O\n",
      "19          19            with       O       O\n",
      "20          20               a       O       O\n",
      "21          21   concentration       O       O\n",
      "22          22              in       O       O\n",
      "23          23       marketing       O       O\n",
      "24          24      management       O       O\n",
      "25          25             amp       O       O\n",
      "26          26        decision       O       O\n",
      "27          27        sciences       O       O\n",
      "28          28               #       O       O\n",
      "   Unnamed: 0       data    old    new\n",
      "0           0  graduated      O      O\n",
      "1           1       with      O      O\n",
      "2           2   bachelor  B-DEG  B-DEG\n",
      "3           3     degree      O  I-DEG\n",
      "4           4         in      O      O\n",
      "5           5   computer      O      O\n",
      "6           6    science      O      O\n",
      "    Unnamed: 0            data     old     new\n",
      "0            0          boston  B-INST  B-INST\n",
      "1            1      university  I-INST  I-INST\n",
      "2            2        questrom  I-INST  B-INST\n",
      "3            3          school  B-INST  I-INST\n",
      "4            4              of  I-INST  I-INST\n",
      "5            5        business  I-INST  I-INST\n",
      "6            6          boston       O       O\n",
      "7            7              ma       O       O\n",
      "8            8             may       O       O\n",
      "9            9            2017       O       O\n",
      "10          10           major       O       O\n",
      "11          11        bachelor   B-DEG   B-DEG\n",
      "12          12              of   I-DEG   I-DEG\n",
      "13          13         science   I-DEG   I-DEG\n",
      "14          14        business       O       O\n",
      "15          15  administration       O       O\n",
      "16          16   concentration       O       O\n",
      "17          17       marketing       O       O\n",
      "18          18         fashion  B-INST  B-INST\n",
      "19          19       institute  I-INST  I-INST\n",
      "20          20              of  I-INST  I-INST\n",
      "21          21      technology  I-INST  I-INST\n",
      "22          22           f.i.t       O       O\n",
      "23          23             new       O       O\n",
      "24          24            york       O       O\n",
      "25          25              ny       O       O\n",
      "26          26          summer       O       O\n",
      "27          27            2014       O       O\n",
      "28          28         fashion       O       O\n",
      "29          29       marketing       O       O\n",
      "30          30          course       O       O\n",
      "31          31        institut       O  B-INST\n",
      "32          32              de   U-DEG  I-INST\n",
      "33          33        touraine       O  I-INST\n",
      "34          34           tours       O       O\n",
      "35          35          france       O       O\n",
      "36          36          summer       O       O\n",
      "37          37            2011       O       O\n",
      "38          38          french       O       O\n",
      "39          39         courses       O       O\n",
      "40          40          oxford       O  B-INST\n",
      "41          41      university       O  I-INST\n",
      "42          42          oxford       O       O\n",
      "43          43              uk       O       O\n",
      "44          44          summer       O       O\n",
      "45          45            2011       O       O\n",
      "46          46      leadership       O       O\n",
      "47          47             and       O       O\n",
      "48          48   international       O       O\n",
      "49          49       relations       O       O\n",
      "    Unnamed: 0                   data     old     new\n",
      "0            0                anjuman  B-INST  B-INST\n",
      "1            1                college  I-INST  I-INST\n",
      "2            2                     of  I-INST  I-INST\n",
      "3            3            engineering  I-INST  I-INST\n",
      "4            4                    and  I-INST  I-INST\n",
      "5            5             technology  I-INST  I-INST\n",
      "6            6                    may       O       O\n",
      "7            7                   2013       O       O\n",
      "8            8               bachelor   B-DEG   B-DEG\n",
      "9            9                     of   I-DEG   I-DEG\n",
      "10          10            engineering   I-DEG   I-DEG\n",
      "11          11                      #       O       O\n",
      "12          12                cleared       O       O\n",
      "13          13                    all       O       O\n",
      "14          14               subjects   I-DEG       O\n",
      "15          15                   with       O       O\n",
      "16          16                  70.11       O       O\n",
      "17          17                percent       O       O\n",
      "18          18              aggregate       O       O\n",
      "19          19                student       O       O\n",
      "20          20                     of       O       O\n",
      "21          21                    the       O       O\n",
      "22          22                   year       O       O\n",
      "23          23               academic       O       O\n",
      "24          24            achievement       O       O\n",
      "25          25                  award       O       O\n",
      "26          26                project       O       O\n",
      "27          27                   work       O       O\n",
      "28          28                     on       O       O\n",
      "29          29               location       O       O\n",
      "30          30                  based       O       O\n",
      "31          31                android       O       O\n",
      "32          32            application       O       O\n",
      "33          33            quot;nagpur       O       O\n",
      "34          34  navigator&quot; using       O       O\n",
      "35          35                 google       O       O\n",
      "36          36                   maps       O       O\n",
      "37          37                    and       O       O\n",
      "38          38                 google       O       O\n",
      "39          39                  cloud       O       O\n",
      "40          40              messaging       O       O\n",
      "    Unnamed: 0            data     old     new\n",
      "0            0            west  B-INST  B-INST\n",
      "1            1          london  I-INST  I-INST\n",
      "2            2         college  I-INST  I-INST\n",
      "3            3         diploma   U-DEG   U-DEG\n",
      "4            4              in       O       O\n",
      "5            5        business       O       O\n",
      "6            6         studies       O       O\n",
      "7            7            2011       O       O\n",
      "8            8               -       O       O\n",
      "9            9            2012       O       O\n",
      "10          10     heriot-watt       O  B-INST\n",
      "11          11      university  I-INST  I-INST\n",
      "12          12              ba   U-DEG   U-DEG\n",
      "13          13          degree       O       O\n",
      "14          14              in       O       O\n",
      "15          15        business       O       O\n",
      "16          16  administration       O       O\n",
      "17          17            2012       O       O\n",
      "18          18               -       O       O\n",
      "19          19            2014       O       O\n",
      "    Unnamed: 0            data     old     new\n",
      "0            0       education       O       O\n",
      "1            1      university  B-INST  B-INST\n",
      "2            2              of  I-INST  I-INST\n",
      "3            3         central  I-INST  I-INST\n",
      "4            4         florida  I-INST  I-INST\n",
      "5            5         orlando       O       O\n",
      "6            6              fl       O       O\n",
      "7            7        bachelor   B-DEG   B-DEG\n",
      "8            8              of   I-DEG   I-DEG\n",
      "9            9         science   I-DEG   I-DEG\n",
      "10          10              in       O       O\n",
      "11          11        business       O       O\n",
      "12          12  administration       O       O\n",
      "13          13             may       O       O\n",
      "14          14            2017       O       O\n",
      "15          15        emphasis       O       O\n",
      "16          16       marketing       O       O\n",
      "    Unnamed: 0               data     old     new\n",
      "0            0         university  B-INST  B-INST\n",
      "1            1                 of  I-INST  I-INST\n",
      "2            2           southern  I-INST  I-INST\n",
      "3            3         california  I-INST  I-INST\n",
      "4            4                gpa       O       O\n",
      "5            5                3.9       O       O\n",
      "6            6                may       O       O\n",
      "7            7               2017       O       O\n",
      "8            8                b.a  U-INST   U-DEG\n",
      "9            9             public       O       O\n",
      "10          10          relations       O       O\n",
      "11          11                b.s   U-DEG   U-DEG\n",
      "12          12         technology       O       O\n",
      "13          13  commercialization       O       O\n",
      "14          14             honors       O       O\n",
      "15          15             dean's       O       O\n",
      "16          16               list       O       O\n",
      "17          17             trojan       O       O\n",
      "18          18             alumni       O       O\n",
      "19          19            scholar       O       O\n",
      "20          20                 of       O       O\n",
      "21          21                san       O       O\n",
      "22          22              diego       O       O\n",
      "23          23                amp       O       O\n",
      "24          24                los       O       O\n",
      "25          25            angeles       O       O\n",
      "26          26             lambda       O       O\n",
      "27          27                 pi       O       O\n",
      "28          28                eta       O       O\n",
      "29          29              honor       O       O\n",
      "30          30            society       O       O\n",
      "    Unnamed: 0           data     old     new\n",
      "0            0            b.e   U-DEG   U-DEG\n",
      "1            1    information       O       O\n",
      "2            2        science       O       O\n",
      "3            3           from       O       O\n",
      "4            4   visvesvaraya  B-INST  B-INST\n",
      "5            5  technological  I-INST  I-INST\n",
      "6            6     university  I-INST  I-INST\n",
      "7            7           with       O       O\n",
      "8            8         60.07%       O       O\n",
      "9            9             in       O       O\n",
      "10          10           2012       O       O\n",
      "11          11            puc   U-DEG   U-DEG\n",
      "12          12           from       O       O\n",
      "13          13     department       O       O\n",
      "14          14             of       O       O\n",
      "15          15            pre       O       O\n",
      "16          16     university       O       O\n",
      "17          17          board       O       O\n",
      "18          18           with       O       O\n",
      "19          19         74.17%       O       O\n",
      "20          20             in       O       O\n",
      "21          21           2008       O       O\n",
      "22          22           sslc   U-DEG   U-DEG\n",
      "23          23           from       O       O\n",
      "24          24        central       O       O\n",
      "25          25          board       O       O\n",
      "26          26             of       O       O\n",
      "27          27      secondary       O       O\n",
      "28          28      education       O       O\n",
      "29          29           with       O       O\n",
      "30          30          76.4%       O       O\n",
      "31          31             in       O       O\n",
      "32          32           2006       O       O\n",
      "    Unnamed: 0            data     old     new\n",
      "0            0  communications       O       O\n",
      "1            1           major       O       O\n",
      "2            2              at       O       O\n",
      "3            3          loyola  B-INST  B-INST\n",
      "4            4       marymount  I-INST  I-INST\n",
      "5            5      university  I-INST  I-INST\n",
      "6            6             los       O       O\n",
      "7            7         angeles       O       O\n",
      "8            8              ca       O       O\n",
      "9            9          member       O       O\n",
      "10          10              of       O       O\n",
      "11          11           alpha       O       O\n",
      "12          12             phi  B-INST       O\n",
      "13          13          pledge  I-INST       O\n",
      "14          14           class       O       O\n",
      "15          15            2013       O       O\n",
      "    Unnamed: 0               data     old     new\n",
      "0            0         university  B-INST  B-INST\n",
      "1            1                 of  I-INST  I-INST\n",
      "2            2  california-irvine  I-INST  I-INST\n",
      "3            3             irvine       O       O\n",
      "4            4                 ca       O       O\n",
      "5            5               june       O       O\n",
      "6            6               2017       O       O\n",
      "7            7           bachelor   B-DEG   B-DEG\n",
      "8            8                 of   I-DEG   I-DEG\n",
      "9            9               arts   I-DEG   I-DEG\n",
      "10          10              major       O       O\n",
      "11          11           business       O       O\n",
      "12          12          economics       O       O\n",
      "13          13              minor       O       O\n",
      "14          14         management       O       O\n",
      "    Unnamed: 0           data     old     new\n",
      "0            0           iowa  B-INST  B-INST\n",
      "1            1          state  I-INST  I-INST\n",
      "2            2     university  I-INST  I-INST\n",
      "3            3           ames  I-INST       O\n",
      "4            4           iowa       O       O\n",
      "5            5       bachelor   B-DEG   B-DEG\n",
      "6            6             of   I-DEG   I-DEG\n",
      "7            7        science   I-DEG   I-DEG\n",
      "8            8              -       O       O\n",
      "9            9         double       O       O\n",
      "10          10          major       O       O\n",
      "11          11      graduated       O       O\n",
      "12          12            may       O       O\n",
      "13          13           2017       O       O\n",
      "14          14          major       O       O\n",
      "15          15        apparel       O       O\n",
      "16          16  merchandising       O       O\n",
      "17          17            and       O       O\n",
      "18          18         design       O       O\n",
      "19          19          major       O       O\n",
      "20          20      marketing       O       O\n",
      "21          21     cumulative       O       O\n",
      "22          22            gpa       O       O\n",
      "23          23            3.5       O       O\n",
      "    Unnamed: 0            data     old     new\n",
      "0            0          sonoma  B-INST  B-INST\n",
      "1            1           state  I-INST  I-INST\n",
      "2            2      university  I-INST  I-INST\n",
      "3            3         rohnert       O       O\n",
      "4            4            park       O       O\n",
      "5            5              ca       O       O\n",
      "6            6       graduated       O       O\n",
      "7            7             may       O       O\n",
      "8            8            2016       O       O\n",
      "9            9        bachelor   B-DEG   B-DEG\n",
      "10          10              of   I-DEG   I-DEG\n",
      "11          11         science   I-DEG   I-DEG\n",
      "12          12        business       O       O\n",
      "13          13  administration       O       O\n",
      "14          14            with       O       O\n",
      "15          15               a       O       O\n",
      "16          16       marketing       O       O\n",
      "17          17   concentration       O       O\n",
      "18          18          dean's       O       O\n",
      "19          19            list       O       O\n",
      "20          20            fall       O       O\n",
      "21          21            2015       O       O\n",
      "    Unnamed: 0        data     old     new\n",
      "0            0  university  B-INST  B-INST\n",
      "1            1          of  I-INST  I-INST\n",
      "2            2       texas  I-INST  I-INST\n",
      "3            3         rio       O       O\n",
      "4            4      grande       O       O\n",
      "5            5      valley       O       O\n",
      "6            6       texas       O  B-INST\n",
      "7            7         a&m  B-INST  I-INST\n",
      "8            8  university  I-INST  I-INST\n",
      "9            9         gpa       O       O\n",
      "10          10         3.5       O       O\n",
      "   Unnamed: 0           data    old    new\n",
      "0           0       academic      O      O\n",
      "1           1  qualification      O      O\n",
      "2           2         passed      O      O\n",
      "3           3            b.e  U-DEG  U-DEG\n",
      "4           4    electronics      O      O\n",
      "5           5             in      O      O\n",
      "6           6           2006      O      O\n",
      "7           7           with      O      O\n",
      "8           8    distinction      O      O\n",
      "    Unnamed: 0         data     old     new\n",
      "0            0        april       O       O\n",
      "1            1    2008-june       O       O\n",
      "2            2         2011       O       O\n",
      "3            3   b.s.(hons.   U-DEG   U-DEG\n",
      "4            4           in       O       O\n",
      "5            5    computing       O       O\n",
      "6            6          and       O       O\n",
      "7            7  information       O       O\n",
      "8            8      systems       O       O\n",
      "9            9   university  B-INST  B-INST\n",
      "10          10           of  I-INST  I-INST\n",
      "11          11    greenwich  I-INST  I-INST\n",
      "12          12       london       O       O\n",
      "    Unnamed: 0            data     old     new\n",
      "0            0      california  B-INST  B-INST\n",
      "1            1           state  I-INST  I-INST\n",
      "2            2      university  I-INST  I-INST\n",
      "3            3       fullerton  I-INST  I-INST\n",
      "4            4       fullerton       O       O\n",
      "5            5              ca       O       O\n",
      "6            6             b.a   U-DEG   U-DEG\n",
      "7            7              in       O       O\n",
      "8            8        business       O       O\n",
      "9            9  administration       O       O\n",
      "10          10        emphasis       O       O\n",
      "11          11       marketing       O       O\n",
      "12          12           class       O       O\n",
      "13          13              of       O       O\n",
      "14          14            2012       O       O\n",
      "15          15           santa  B-INST       O\n",
      "16          16          monica  I-INST       O\n",
      "17          17      university  I-INST       O\n",
      "18          18           santa       O       O\n",
      "19          19          monica       O       O\n",
      "20          20              ca       O       O\n",
      "21          21         fashion   I-DEG       O\n",
      "22          22          design       O       O\n",
      "23          23             and  I-INST       O\n",
      "24          24   merchandising  I-INST       O\n",
      "25          25            ucla  B-INST  B-INST\n",
      "26          26       extension  I-INST  I-INST\n",
      "27          27             los       O       O\n",
      "28          28         angeles       O       O\n",
      "29          29              ca       O       O\n",
      "30          30         digital       O       O\n",
      "31          31       analytics       O       O\n",
      "32          32          course       O       O\n",
      "33          33            2017       O       O\n",
      "    Unnamed: 0           data     old     new\n",
      "0            0             be   U-DEG   U-DEG\n",
      "1            1            e&c       O       O\n",
      "2            2  communication       O       O\n",
      "3            3    engineering       O       O\n",
      "4            4              #       O       O\n",
      "5            5           2007       O       O\n",
      "6            6              -       O       O\n",
      "7            7           2011       O       O\n",
      "8            8          aalim       O  B-INST\n",
      "9            9       muhammad       O  I-INST\n",
      "10          10         salegh  B-INST  I-INST\n",
      "11          11        college  I-INST  I-INST\n",
      "12          12             of  I-INST  I-INST\n",
      "13          13    engineering  I-INST  I-INST\n",
      "14          14           anna  B-INST  B-INST\n",
      "15          15     university  I-INST  I-INST\n",
      "16          16        chennai       O       O\n",
      "    Unnamed: 0           data     old     new\n",
      "0            0     california  B-INST  B-INST\n",
      "1            1          state  I-INST  I-INST\n",
      "2            2     university  I-INST  I-INST\n",
      "3            3             of  I-INST       O\n",
      "4            4     northridge  I-INST       O\n",
      "5            5            b.a   U-DEG   U-DEG\n",
      "6            6             in       O       O\n",
      "7            7         cinema       O       O\n",
      "8            8        studies       O       O\n",
      "9            9           2007       O       O\n",
      "10          10            los       O  B-INST\n",
      "11          11        angeles       O  I-INST\n",
      "12          12           city       O  I-INST\n",
      "13          13        college  I-INST  I-INST\n",
      "14          14           film       O       O\n",
      "15          15     production       O       O\n",
      "16          16        studies       O       O\n",
      "17          17           2005       O       O\n",
      "18          18          santa  B-INST  B-INST\n",
      "19          19         monica  I-INST  I-INST\n",
      "20          20        college  I-INST  I-INST\n",
      "21          21           2003       O       O\n",
      "22          22            a.a   B-DEG   B-DEG\n",
      "23          23         degree   I-DEG   I-DEG\n",
      "24          24             in       O       O\n",
      "25          25        liberal       O       O\n",
      "26          26           arts       O       O\n",
      "27          27            and       O       O\n",
      "28          28     completion       O       O\n",
      "29          29             of       O       O\n",
      "30          30         igetce       O       O\n",
      "31          31           2001       O       O\n",
      "32          32            the  B-INST  B-INST\n",
      "33          33        academy  I-INST  I-INST\n",
      "34          34             of       O  I-INST\n",
      "35          35  entertainment  I-INST  I-INST\n",
      "36          36            and  I-INST  I-INST\n",
      "37          37     technology  I-INST  I-INST\n",
      "38          38           2001       O       O\n",
      "    Unnamed: 0        data     old     new\n",
      "0            0          be   U-DEG   U-DEG\n",
      "1            1        from       O       O\n",
      "2            2        rgtu  B-INST  B-INST\n",
      "3            3  university  I-INST  I-INST\n",
      "4            4           )  I-INST       O\n",
      "5            5      bhopal       O       O\n",
      "6            6  year(2008)       O       O\n",
      "7            7        12th   U-DEG   U-DEG\n",
      "8            8        from       O       O\n",
      "9            9        govt  B-INST  B-INST\n",
      "10          10      higher  I-INST  I-INST\n",
      "11          11   secondary  I-INST  I-INST\n",
      "12          12      school  I-INST  I-INST\n",
      "13          13          no       O       O\n",
      "14          14           1       O       O\n",
      "15          15  chhatarpur       O       O\n",
      "16          16  year(2004)       O       O\n",
      "    Unnamed: 0         data     old     new\n",
      "0            0         2009       O       O\n",
      "1            1        s.s.c       O   U-DEG\n",
      "2            2  maharashtra       O       O\n",
      "3            3        board       O       O\n",
      "4            4            1       O       O\n",
      "5            5      stclass       O       O\n",
      "6            6         2011       O       O\n",
      "7            7        h.s.c   U-DEG   U-DEG\n",
      "8            8  maharashtra       O       O\n",
      "9            9        board       O       O\n",
      "10          10           ii       O       O\n",
      "11          11           nd       O       O\n",
      "12          12        class       O       O\n",
      "13          13         2014       O       O\n",
      "14          14    t.y.b.com  B-INST  B-INST\n",
      "15          15       mumbai  I-INST  I-INST\n",
      "16          16   university  I-INST  I-INST\n",
      "17          17            1       O       O\n",
      "18          18           st       O       O\n",
      "19          19        class       O       O\n",
      "    Unnamed: 0                   data     old     new\n",
      "0            0             bachelor's   B-DEG   B-DEG\n",
      "1            1                 degree       O   I-DEG\n",
      "2            2  marketing/web-digital       O       O\n",
      "3            3                focused       O       O\n",
      "4            4                     in       O       O\n",
      "5            5               progress       O       O\n",
      "6            6            certificate       O       O\n",
      "7            7              associate       O       O\n",
      "8            8                project       O       O\n",
      "9            9             management       O       O\n",
      "10          10                   capm       O       O\n",
      "11          11                     in       O       O\n",
      "12          12               progress       O       O\n",
      "13          13             kapi'olani       O  B-INST\n",
      "14          14              community  B-INST  I-INST\n",
      "15          15                college  I-INST  I-INST\n",
      "16          16               honolulu  I-INST       O\n",
      "17          17                     hi       O       O\n",
      "18          18                   1995       O       O\n",
      "19          19                      -       O       O\n",
      "20          20                   1999       O       O\n",
      "21          21              associate       O   B-DEG\n",
      "22          22                     of       O   I-DEG\n",
      "23          23                science   I-DEG   I-DEG\n",
      "24          24                      -       O       O\n",
      "25          25                 travel       O       O\n",
      "26          26                    amp       O       O\n",
      "838\n"
     ]
    }
   ],
   "source": [
    "reTrain(12)\n",
    "n_words = len(wuniq)\n",
    "n_pos = len(puniq)"
   ]
  },
  {
   "cell_type": "code",
   "execution_count": 287,
   "metadata": {
    "collapsed": false
   },
   "outputs": [
    {
     "data": {
      "text/plain": [
       "838"
      ]
     },
     "execution_count": 287,
     "metadata": {},
     "output_type": "execute_result"
    }
   ],
   "source": [
    "len(X_tr)"
   ]
  },
  {
   "cell_type": "code",
   "execution_count": 288,
   "metadata": {
    "collapsed": false
   },
   "outputs": [
    {
     "data": {
      "text/plain": [
       "838"
      ]
     },
     "execution_count": 288,
     "metadata": {},
     "output_type": "execute_result"
    }
   ],
   "source": [
    "len(y_tr)"
   ]
  },
  {
   "cell_type": "code",
   "execution_count": 289,
   "metadata": {
    "collapsed": false
   },
   "outputs": [],
   "source": [
    "import numpy as np\n",
    "import tensorflow as tf\n",
    "import random as rn\n",
    "\n",
    "# The below is necessary in Python 3.2.3 onwards to\n",
    "# have reproducible behavior for certain hash-based operations.\n",
    "# See these references for further details:\n",
    "# https://docs.python.org/3.4/using/cmdline.html#envvar-PYTHONHASHSEED\n",
    "# https://github.com/keras-team/keras/issues/2280#issuecomment-306959926\n",
    "\n",
    "import os\n",
    "os.environ['PYTHONHASHSEED'] = '0'\n",
    "\n",
    "# The below is necessary for starting Numpy generated random numbers\n",
    "# in a well-defined initial state.\n",
    "\n",
    "np.random.seed(42)\n",
    "\n",
    "# The below is necessary for starting core Python generated random numbers\n",
    "# in a well-defined state.\n",
    "\n",
    "rn.seed(12345)\n",
    "\n",
    "# Force TensorFlow to use single thread.\n",
    "# Multiple threads are a potential source of\n",
    "# non-reproducible results.\n",
    "# For further details, see: https://stackoverflow.com/questions/42022950/which-seeds-have-to-be-set-where-to-realize-100-reproducibility-of-training-res\n",
    "\n",
    "session_conf = tf.ConfigProto(intra_op_parallelism_threads=1, inter_op_parallelism_threads=1)\n",
    "\n",
    "from keras import backend as K\n",
    "\n",
    "# The below tf.set_random_seed() will make random number generation\n",
    "# in the TensorFlow backend have a well-defined initial state.\n",
    "# For further details, see: https://www.tensorflow.org/api_docs/python/tf/set_random_seed\n",
    "\n",
    "tf.set_random_seed(1234)\n",
    "\n",
    "sess = tf.Session(graph=tf.get_default_graph(), config=session_conf)\n",
    "K.set_session(sess)"
   ]
  },
  {
   "cell_type": "code",
   "execution_count": 290,
   "metadata": {
    "collapsed": false
   },
   "outputs": [],
   "source": [
    "word_input = Input(shape=(max_len,))\n",
    "word_emb = Embedding(input_dim=(n_words+250), output_dim=110,\n",
    "                     input_length=max_len)(word_input)\n",
    "\n",
    "pos_input = Input(shape=(max_len,))\n",
    "pos_emb = Embedding(input_dim=(n_pos+5), output_dim=15,\n",
    "                    input_length=max_len)(pos_input)\n",
    "\n",
    "# font_input = Input(shape=(max_len,))\n",
    "# font_emb = Embedding(input_dim=n_fonts, output_dim=15,\n",
    "#                     input_length=max_len)(font_input)\n",
    "\n",
    "\n",
    "model = keras.layers.concatenate([word_emb, pos_emb])\n",
    "# model = Bidirectional(LSTM(units=50, return_sequences=True,\n",
    "#                            recurrent_dropout=0.1))(model)\n",
    "\n",
    "# model = Embedding(input_dim=n_words, output_dim=110, input_length=max_len)(input)\n",
    "\n",
    "model = Conv1D(filters=32, kernel_size=3, padding='same', activation='relu')(model)\n",
    "model = Dropout(0.1)(model)\n",
    "# model = MaxPooling1D(pool_size=1)(model)\n",
    "model = Bidirectional(LSTM(units=100, return_sequences=True, recurrent_dropout=0.1))(model)  # variational biLSTM\n",
    "model = TimeDistributed(Dense(n_tags, activation=\"softmax\"))(model)  # softmax output layer\n",
    "crf = CRF(n_tags)  # CRF layer\n",
    "out = crf(model)"
   ]
  },
  {
   "cell_type": "code",
   "execution_count": null,
   "metadata": {
    "collapsed": false
   },
   "outputs": [],
   "source": []
  },
  {
   "cell_type": "code",
   "execution_count": 291,
   "metadata": {
    "collapsed": false
   },
   "outputs": [],
   "source": [
    "model = Model([word_input,pos_input], out)"
   ]
  },
  {
   "cell_type": "code",
   "execution_count": 292,
   "metadata": {
    "collapsed": false
   },
   "outputs": [],
   "source": [
    "model.compile(optimizer=\"rmsprop\", loss=crf.loss_function, metrics=[crf.accuracy])"
   ]
  },
  {
   "cell_type": "code",
   "execution_count": 293,
   "metadata": {
    "collapsed": false
   },
   "outputs": [
    {
     "name": "stdout",
     "output_type": "stream",
     "text": [
      "__________________________________________________________________________________________________\n",
      "Layer (type)                    Output Shape         Param #     Connected to                     \n",
      "==================================================================================================\n",
      "input_25 (InputLayer)           (None, 125)          0                                            \n",
      "__________________________________________________________________________________________________\n",
      "input_26 (InputLayer)           (None, 125)          0                                            \n",
      "__________________________________________________________________________________________________\n",
      "embedding_25 (Embedding)        (None, 125, 110)     536910      input_25[0][0]                   \n",
      "__________________________________________________________________________________________________\n",
      "embedding_26 (Embedding)        (None, 125, 15)      600         input_26[0][0]                   \n",
      "__________________________________________________________________________________________________\n",
      "concatenate_13 (Concatenate)    (None, 125, 125)     0           embedding_25[0][0]               \n",
      "                                                                 embedding_26[0][0]               \n",
      "__________________________________________________________________________________________________\n",
      "conv1d_13 (Conv1D)              (None, 125, 32)      12032       concatenate_13[0][0]             \n",
      "__________________________________________________________________________________________________\n",
      "dropout_13 (Dropout)            (None, 125, 32)      0           conv1d_13[0][0]                  \n",
      "__________________________________________________________________________________________________\n",
      "bidirectional_13 (Bidirectional (None, 125, 200)     106400      dropout_13[0][0]                 \n",
      "__________________________________________________________________________________________________\n",
      "time_distributed_13 (TimeDistri (None, 125, 7)       1407        bidirectional_13[0][0]           \n",
      "__________________________________________________________________________________________________\n",
      "crf_13 (CRF)                    (None, 125, 7)       119         time_distributed_13[0][0]        \n",
      "==================================================================================================\n",
      "Total params: 657,468\n",
      "Trainable params: 657,468\n",
      "Non-trainable params: 0\n",
      "__________________________________________________________________________________________________\n"
     ]
    }
   ],
   "source": [
    "model.summary()"
   ]
  },
  {
   "cell_type": "code",
   "execution_count": 294,
   "metadata": {
    "collapsed": false
   },
   "outputs": [
    {
     "name": "stdout",
     "output_type": "stream",
     "text": [
      "Train on 796 samples, validate on 42 samples\n",
      "Epoch 1/40\n",
      "796/796 [==============================] - 55s 69ms/step - loss: 0.7504 - viterbi_acc: 0.9091 - val_loss: 0.4504 - val_viterbi_acc: 0.9396\n",
      "Epoch 2/40\n",
      "796/796 [==============================] - 50s 63ms/step - loss: 0.3714 - viterbi_acc: 0.9098 - val_loss: 0.2241 - val_viterbi_acc: 0.9396\n",
      "Epoch 3/40\n",
      "796/796 [==============================] - 50s 63ms/step - loss: 0.2270 - viterbi_acc: 0.9105 - val_loss: 0.1441 - val_viterbi_acc: 0.9429\n",
      "Epoch 4/40\n",
      "796/796 [==============================] - 51s 64ms/step - loss: 0.1756 - viterbi_acc: 0.9188 - val_loss: 0.1173 - val_viterbi_acc: 0.9549\n",
      "Epoch 5/40\n",
      "796/796 [==============================] - 50s 62ms/step - loss: 0.1481 - viterbi_acc: 0.9338 - val_loss: 0.1013 - val_viterbi_acc: 0.9598\n",
      "Epoch 6/40\n",
      "796/796 [==============================] - 50s 63ms/step - loss: 0.1247 - viterbi_acc: 0.9448 - val_loss: 0.0909 - val_viterbi_acc: 0.9617\n",
      "Epoch 7/40\n",
      "796/796 [==============================] - 51s 64ms/step - loss: 0.1013 - viterbi_acc: 0.9505 - val_loss: 0.0763 - val_viterbi_acc: 0.9678\n",
      "Epoch 8/40\n",
      "796/796 [==============================] - 50s 63ms/step - loss: 0.0839 - viterbi_acc: 0.9614 - val_loss: 0.0647 - val_viterbi_acc: 0.9678\n",
      "Epoch 9/40\n",
      "796/796 [==============================] - 51s 64ms/step - loss: 0.0687 - viterbi_acc: 0.9647 - val_loss: 0.0642 - val_viterbi_acc: 0.9600\n",
      "Epoch 10/40\n",
      "796/796 [==============================] - 50s 62ms/step - loss: 0.0555 - viterbi_acc: 0.9670 - val_loss: 0.0559 - val_viterbi_acc: 0.9621\n",
      "Epoch 11/40\n",
      "796/796 [==============================] - 50s 63ms/step - loss: 0.0447 - viterbi_acc: 0.9712 - val_loss: 0.0479 - val_viterbi_acc: 0.9726\n",
      "Epoch 12/40\n",
      "796/796 [==============================] - 51s 64ms/step - loss: 0.0361 - viterbi_acc: 0.9758 - val_loss: 0.0552 - val_viterbi_acc: 0.9688\n",
      "Epoch 13/40\n",
      "796/796 [==============================] - 51s 64ms/step - loss: 0.0289 - viterbi_acc: 0.9811 - val_loss: 0.0480 - val_viterbi_acc: 0.9705\n",
      "Epoch 14/40\n",
      "796/796 [==============================] - 52s 65ms/step - loss: 0.0223 - viterbi_acc: 0.9865 - val_loss: 0.0456 - val_viterbi_acc: 0.9707\n",
      "Epoch 15/40\n",
      "796/796 [==============================] - 51s 64ms/step - loss: 0.0173 - viterbi_acc: 0.9878 - val_loss: 0.0527 - val_viterbi_acc: 0.9653\n",
      "Epoch 16/40\n",
      "796/796 [==============================] - 51s 64ms/step - loss: 0.0125 - viterbi_acc: 0.9884 - val_loss: 0.0593 - val_viterbi_acc: 0.9602\n",
      "Epoch 17/40\n",
      "796/796 [==============================] - 50s 63ms/step - loss: 0.0082 - viterbi_acc: 0.9892 - val_loss: 0.0577 - val_viterbi_acc: 0.9589\n",
      "Epoch 18/40\n",
      "796/796 [==============================] - 51s 63ms/step - loss: 0.0047 - viterbi_acc: 0.9894 - val_loss: 0.0383 - val_viterbi_acc: 0.9718\n",
      "Epoch 19/40\n",
      "796/796 [==============================] - 51s 64ms/step - loss: 9.3078e-04 - viterbi_acc: 0.9900 - val_loss: 0.0371 - val_viterbi_acc: 0.9712\n",
      "Epoch 20/40\n",
      "796/796 [==============================] - 51s 64ms/step - loss: -0.0021 - viterbi_acc: 0.9900 - val_loss: 0.0425 - val_viterbi_acc: 0.9680\n",
      "Epoch 21/40\n",
      "796/796 [==============================] - 52s 66ms/step - loss: -0.0055 - viterbi_acc: 0.9913 - val_loss: 0.0369 - val_viterbi_acc: 0.9701\n",
      "Epoch 22/40\n",
      "796/796 [==============================] - 51s 65ms/step - loss: -0.0081 - viterbi_acc: 0.9917 - val_loss: 0.0384 - val_viterbi_acc: 0.9703\n",
      "Epoch 23/40\n",
      "796/796 [==============================] - 52s 66ms/step - loss: -0.0105 - viterbi_acc: 0.9922 - val_loss: 0.0383 - val_viterbi_acc: 0.9691\n",
      "Epoch 24/40\n",
      "796/796 [==============================] - 52s 65ms/step - loss: -0.0131 - viterbi_acc: 0.9922 - val_loss: 0.0370 - val_viterbi_acc: 0.9695\n",
      "Epoch 25/40\n",
      "796/796 [==============================] - 52s 65ms/step - loss: -0.0155 - viterbi_acc: 0.9925 - val_loss: 0.0299 - val_viterbi_acc: 0.9693\n",
      "Epoch 26/40\n",
      "796/796 [==============================] - 52s 65ms/step - loss: -0.0176 - viterbi_acc: 0.9925 - val_loss: 0.0265 - val_viterbi_acc: 0.9730\n",
      "Epoch 27/40\n",
      "796/796 [==============================] - 51s 65ms/step - loss: -0.0199 - viterbi_acc: 0.9931 - val_loss: 0.0286 - val_viterbi_acc: 0.9728\n",
      "Epoch 28/40\n",
      "796/796 [==============================] - 52s 65ms/step - loss: -0.0221 - viterbi_acc: 0.9932 - val_loss: 0.0294 - val_viterbi_acc: 0.9714\n",
      "Epoch 29/40\n",
      "796/796 [==============================] - 52s 66ms/step - loss: -0.0239 - viterbi_acc: 0.9937 - val_loss: 0.0532 - val_viterbi_acc: 0.9644\n",
      "Epoch 30/40\n",
      "796/796 [==============================] - 51s 64ms/step - loss: -0.0262 - viterbi_acc: 0.9959 - val_loss: 0.0383 - val_viterbi_acc: 0.9653\n",
      "Epoch 31/40\n",
      "796/796 [==============================] - 51s 65ms/step - loss: -0.0280 - viterbi_acc: 0.9957 - val_loss: 0.0256 - val_viterbi_acc: 0.9718\n",
      "Epoch 32/40\n",
      "796/796 [==============================] - 51s 65ms/step - loss: -0.0301 - viterbi_acc: 0.9961 - val_loss: 0.0392 - val_viterbi_acc: 0.9695\n",
      "Epoch 33/40\n",
      "796/796 [==============================] - 51s 64ms/step - loss: -0.0317 - viterbi_acc: 0.9963 - val_loss: 0.0289 - val_viterbi_acc: 0.9691\n",
      "Epoch 34/40\n",
      "796/796 [==============================] - 52s 65ms/step - loss: -0.0334 - viterbi_acc: 0.9962 - val_loss: 0.0267 - val_viterbi_acc: 0.9705\n",
      "Epoch 35/40\n",
      "796/796 [==============================] - 52s 66ms/step - loss: -0.0354 - viterbi_acc: 0.9964 - val_loss: 0.0283 - val_viterbi_acc: 0.9710\n",
      "Epoch 36/40\n",
      "796/796 [==============================] - 52s 66ms/step - loss: -0.0370 - viterbi_acc: 0.9965 - val_loss: 0.0213 - val_viterbi_acc: 0.9739\n",
      "Epoch 37/40\n",
      "796/796 [==============================] - 53s 66ms/step - loss: -0.0388 - viterbi_acc: 0.9968 - val_loss: 0.0396 - val_viterbi_acc: 0.9627\n",
      "Epoch 38/40\n",
      "796/796 [==============================] - 52s 65ms/step - loss: -0.0407 - viterbi_acc: 0.9969 - val_loss: 0.0280 - val_viterbi_acc: 0.9701\n",
      "Epoch 39/40\n",
      "796/796 [==============================] - 53s 66ms/step - loss: -0.0425 - viterbi_acc: 0.9971 - val_loss: 0.0389 - val_viterbi_acc: 0.9651\n",
      "Epoch 40/40\n",
      "796/796 [==============================] - 53s 66ms/step - loss: -0.0448 - viterbi_acc: 0.9972 - val_loss: 0.0275 - val_viterbi_acc: 0.9682\n"
     ]
    }
   ],
   "source": [
    "history = model.fit([X_tr,X_tr1], np.array(y_tr), batch_size=5, epochs=40, validation_split=0.05, verbose=1)"
   ]
  },
  {
   "cell_type": "code",
   "execution_count": 295,
   "metadata": {
    "collapsed": false
   },
   "outputs": [],
   "source": [
    "output = pd.DataFrame(columns=[\"words\",\"pos\",\"correct\",\"predicted\"])"
   ]
  },
  {
   "cell_type": "code",
   "execution_count": 296,
   "metadata": {
    "collapsed": true
   },
   "outputs": [],
   "source": [
    "for i in range(len(X_te)):\n",
    "    y_pred = model.predict([np.array([X_te[i]]),np.array([X_te1[i]])])\n",
    "    p= y_pred\n",
    "    p = np.argmax(p, axis=-1)\n",
    "    for x in range(len(X_te[i])):\n",
    "        output = output.append({\"words\":wuniq[X_te[i][x]],\"pos\":puniq[X_te1[i][x]],\"correct\":tuniq[np.argmax(y_te[i],axis=-1)[x]],\"predicted\":tuniq[p[0][x]]},ignore_index=True)\n",
    "    output = output[~(output[\"words\"]==\"ENDPAD\")]\n",
    "#     output = output.append({\"words\":\"-X-\",\"pos\":\"\",\"correct\":\"\",\"predicted\":\"\"},ignore_index=True)"
   ]
  },
  {
   "cell_type": "code",
   "execution_count": 297,
   "metadata": {
    "collapsed": false
   },
   "outputs": [],
   "source": [
    "output = output.reset_index(drop=True)"
   ]
  },
  {
   "cell_type": "code",
   "execution_count": 298,
   "metadata": {
    "collapsed": false
   },
   "outputs": [
    {
     "name": "stdout",
     "output_type": "stream",
     "text": [
      "here!\n",
      "here!\n",
      "here!\n"
     ]
    }
   ],
   "source": [
    "for i in range(len(output[\"words\"])):\n",
    "    if len(output[\"words\"].iloc[i].split(\" \"))>1:\n",
    "        print \"here!\"\n",
    "        output[\"words\"].iloc[i] = (output[\"words\"].iloc[i]).replace(\" \",\"\")"
   ]
  },
  {
   "cell_type": "code",
   "execution_count": 299,
   "metadata": {
    "collapsed": true
   },
   "outputs": [],
   "source": [
    "output.to_csv(\"outputdeginstagain1.txt\",sep=\" \",index=False,header=False)"
   ]
  },
  {
   "cell_type": "code",
   "execution_count": null,
   "metadata": {
    "collapsed": true
   },
   "outputs": [],
   "source": []
  },
  {
   "cell_type": "code",
   "execution_count": 584,
   "metadata": {
    "collapsed": true
   },
   "outputs": [],
   "source": [
    "f = open(\"FinX_tr.txt\",\"w\")\n",
    "pickle.dump(X_tr,f)\n",
    "f.close()\n",
    "\n",
    "f = open(\"FinX_tr1.txt\",\"w\")\n",
    "pickle.dump(X_tr1,f)\n",
    "f.close()\n",
    "\n",
    "f = open(\"Finy.txt\",\"w\")\n",
    "pickle.dump(y_tr,f)\n",
    "f.close()"
   ]
  },
  {
   "cell_type": "code",
   "execution_count": null,
   "metadata": {
    "collapsed": true
   },
   "outputs": [],
   "source": []
  },
  {
   "cell_type": "code",
   "execution_count": null,
   "metadata": {
    "collapsed": true
   },
   "outputs": [],
   "source": []
  },
  {
   "cell_type": "code",
   "execution_count": null,
   "metadata": {
    "collapsed": true
   },
   "outputs": [],
   "source": []
  },
  {
   "cell_type": "code",
   "execution_count": null,
   "metadata": {
    "collapsed": true
   },
   "outputs": [],
   "source": []
  },
  {
   "cell_type": "code",
   "execution_count": null,
   "metadata": {
    "collapsed": true
   },
   "outputs": [],
   "source": []
  },
  {
   "cell_type": "code",
   "execution_count": null,
   "metadata": {
    "collapsed": true
   },
   "outputs": [],
   "source": []
  },
  {
   "cell_type": "code",
   "execution_count": null,
   "metadata": {
    "collapsed": true
   },
   "outputs": [],
   "source": []
  },
  {
   "cell_type": "code",
   "execution_count": null,
   "metadata": {
    "collapsed": true
   },
   "outputs": [],
   "source": []
  },
  {
   "cell_type": "code",
   "execution_count": null,
   "metadata": {
    "collapsed": true
   },
   "outputs": [],
   "source": []
  },
  {
   "cell_type": "code",
   "execution_count": null,
   "metadata": {
    "collapsed": true
   },
   "outputs": [],
   "source": []
  },
  {
   "cell_type": "code",
   "execution_count": null,
   "metadata": {
    "collapsed": true
   },
   "outputs": [],
   "source": []
  },
  {
   "cell_type": "code",
   "execution_count": null,
   "metadata": {
    "collapsed": true
   },
   "outputs": [],
   "source": []
  },
  {
   "cell_type": "code",
   "execution_count": null,
   "metadata": {
    "collapsed": true
   },
   "outputs": [],
   "source": []
  },
  {
   "cell_type": "code",
   "execution_count": null,
   "metadata": {
    "collapsed": true
   },
   "outputs": [],
   "source": []
  },
  {
   "cell_type": "code",
   "execution_count": null,
   "metadata": {
    "collapsed": true
   },
   "outputs": [],
   "source": []
  },
  {
   "cell_type": "code",
   "execution_count": null,
   "metadata": {
    "collapsed": true
   },
   "outputs": [],
   "source": []
  },
  {
   "cell_type": "code",
   "execution_count": null,
   "metadata": {
    "collapsed": true
   },
   "outputs": [],
   "source": []
  },
  {
   "cell_type": "code",
   "execution_count": null,
   "metadata": {
    "collapsed": true
   },
   "outputs": [],
   "source": []
  },
  {
   "cell_type": "code",
   "execution_count": null,
   "metadata": {
    "collapsed": true
   },
   "outputs": [],
   "source": []
  },
  {
   "cell_type": "code",
   "execution_count": null,
   "metadata": {
    "collapsed": true
   },
   "outputs": [],
   "source": []
  },
  {
   "cell_type": "code",
   "execution_count": null,
   "metadata": {
    "collapsed": true
   },
   "outputs": [],
   "source": []
  },
  {
   "cell_type": "code",
   "execution_count": null,
   "metadata": {
    "collapsed": true
   },
   "outputs": [],
   "source": []
  },
  {
   "cell_type": "code",
   "execution_count": null,
   "metadata": {
    "collapsed": true
   },
   "outputs": [],
   "source": []
  },
  {
   "cell_type": "code",
   "execution_count": null,
   "metadata": {
    "collapsed": true
   },
   "outputs": [],
   "source": []
  },
  {
   "cell_type": "code",
   "execution_count": null,
   "metadata": {
    "collapsed": true
   },
   "outputs": [],
   "source": []
  },
  {
   "cell_type": "code",
   "execution_count": null,
   "metadata": {
    "collapsed": true
   },
   "outputs": [],
   "source": []
  },
  {
   "cell_type": "code",
   "execution_count": null,
   "metadata": {
    "collapsed": true
   },
   "outputs": [],
   "source": []
  },
  {
   "cell_type": "code",
   "execution_count": null,
   "metadata": {
    "collapsed": true
   },
   "outputs": [],
   "source": []
  },
  {
   "cell_type": "code",
   "execution_count": null,
   "metadata": {
    "collapsed": true
   },
   "outputs": [],
   "source": []
  },
  {
   "cell_type": "code",
   "execution_count": null,
   "metadata": {
    "collapsed": true
   },
   "outputs": [],
   "source": []
  },
  {
   "cell_type": "code",
   "execution_count": null,
   "metadata": {
    "collapsed": true
   },
   "outputs": [],
   "source": []
  },
  {
   "cell_type": "code",
   "execution_count": null,
   "metadata": {
    "collapsed": true
   },
   "outputs": [],
   "source": []
  },
  {
   "cell_type": "code",
   "execution_count": null,
   "metadata": {
    "collapsed": true
   },
   "outputs": [],
   "source": []
  },
  {
   "cell_type": "code",
   "execution_count": null,
   "metadata": {
    "collapsed": true
   },
   "outputs": [],
   "source": []
  },
  {
   "cell_type": "code",
   "execution_count": null,
   "metadata": {
    "collapsed": true
   },
   "outputs": [],
   "source": []
  },
  {
   "cell_type": "code",
   "execution_count": null,
   "metadata": {
    "collapsed": true
   },
   "outputs": [],
   "source": []
  },
  {
   "cell_type": "code",
   "execution_count": null,
   "metadata": {
    "collapsed": true
   },
   "outputs": [],
   "source": []
  },
  {
   "cell_type": "code",
   "execution_count": null,
   "metadata": {
    "collapsed": true
   },
   "outputs": [],
   "source": []
  },
  {
   "cell_type": "code",
   "execution_count": null,
   "metadata": {
    "collapsed": true
   },
   "outputs": [],
   "source": []
  },
  {
   "cell_type": "code",
   "execution_count": null,
   "metadata": {
    "collapsed": true
   },
   "outputs": [],
   "source": []
  },
  {
   "cell_type": "code",
   "execution_count": null,
   "metadata": {
    "collapsed": true
   },
   "outputs": [],
   "source": []
  },
  {
   "cell_type": "code",
   "execution_count": null,
   "metadata": {
    "collapsed": true
   },
   "outputs": [],
   "source": []
  },
  {
   "cell_type": "code",
   "execution_count": null,
   "metadata": {
    "collapsed": true
   },
   "outputs": [],
   "source": []
  },
  {
   "cell_type": "code",
   "execution_count": null,
   "metadata": {
    "collapsed": true
   },
   "outputs": [],
   "source": []
  },
  {
   "cell_type": "code",
   "execution_count": null,
   "metadata": {
    "collapsed": true
   },
   "outputs": [],
   "source": []
  },
  {
   "cell_type": "code",
   "execution_count": null,
   "metadata": {
    "collapsed": true
   },
   "outputs": [],
   "source": []
  },
  {
   "cell_type": "code",
   "execution_count": null,
   "metadata": {
    "collapsed": true
   },
   "outputs": [],
   "source": []
  },
  {
   "cell_type": "code",
   "execution_count": null,
   "metadata": {
    "collapsed": true
   },
   "outputs": [],
   "source": []
  },
  {
   "cell_type": "code",
   "execution_count": null,
   "metadata": {
    "collapsed": true
   },
   "outputs": [],
   "source": []
  },
  {
   "cell_type": "code",
   "execution_count": null,
   "metadata": {
    "collapsed": true
   },
   "outputs": [],
   "source": []
  },
  {
   "cell_type": "code",
   "execution_count": null,
   "metadata": {
    "collapsed": true
   },
   "outputs": [],
   "source": []
  },
  {
   "cell_type": "code",
   "execution_count": null,
   "metadata": {
    "collapsed": true
   },
   "outputs": [],
   "source": []
  },
  {
   "cell_type": "code",
   "execution_count": null,
   "metadata": {
    "collapsed": true
   },
   "outputs": [],
   "source": []
  },
  {
   "cell_type": "code",
   "execution_count": null,
   "metadata": {
    "collapsed": true
   },
   "outputs": [],
   "source": []
  },
  {
   "cell_type": "code",
   "execution_count": null,
   "metadata": {
    "collapsed": true
   },
   "outputs": [],
   "source": []
  },
  {
   "cell_type": "code",
   "execution_count": null,
   "metadata": {
    "collapsed": true
   },
   "outputs": [],
   "source": []
  },
  {
   "cell_type": "code",
   "execution_count": null,
   "metadata": {
    "collapsed": true
   },
   "outputs": [],
   "source": []
  },
  {
   "cell_type": "code",
   "execution_count": null,
   "metadata": {
    "collapsed": true
   },
   "outputs": [],
   "source": []
  },
  {
   "cell_type": "code",
   "execution_count": null,
   "metadata": {
    "collapsed": true
   },
   "outputs": [],
   "source": []
  },
  {
   "cell_type": "code",
   "execution_count": null,
   "metadata": {
    "collapsed": true
   },
   "outputs": [],
   "source": []
  },
  {
   "cell_type": "code",
   "execution_count": null,
   "metadata": {
    "collapsed": true
   },
   "outputs": [],
   "source": []
  },
  {
   "cell_type": "code",
   "execution_count": null,
   "metadata": {
    "collapsed": true
   },
   "outputs": [],
   "source": []
  },
  {
   "cell_type": "code",
   "execution_count": null,
   "metadata": {
    "collapsed": true
   },
   "outputs": [],
   "source": []
  },
  {
   "cell_type": "code",
   "execution_count": null,
   "metadata": {
    "collapsed": true
   },
   "outputs": [],
   "source": []
  },
  {
   "cell_type": "code",
   "execution_count": null,
   "metadata": {
    "collapsed": true
   },
   "outputs": [],
   "source": []
  },
  {
   "cell_type": "code",
   "execution_count": null,
   "metadata": {
    "collapsed": true
   },
   "outputs": [],
   "source": []
  },
  {
   "cell_type": "code",
   "execution_count": null,
   "metadata": {
    "collapsed": true
   },
   "outputs": [],
   "source": []
  },
  {
   "cell_type": "code",
   "execution_count": null,
   "metadata": {
    "collapsed": true
   },
   "outputs": [],
   "source": []
  },
  {
   "cell_type": "code",
   "execution_count": null,
   "metadata": {
    "collapsed": true
   },
   "outputs": [],
   "source": []
  },
  {
   "cell_type": "code",
   "execution_count": null,
   "metadata": {
    "collapsed": true
   },
   "outputs": [],
   "source": []
  },
  {
   "cell_type": "code",
   "execution_count": null,
   "metadata": {
    "collapsed": true
   },
   "outputs": [],
   "source": []
  },
  {
   "cell_type": "code",
   "execution_count": null,
   "metadata": {
    "collapsed": true
   },
   "outputs": [],
   "source": []
  },
  {
   "cell_type": "code",
   "execution_count": null,
   "metadata": {
    "collapsed": true
   },
   "outputs": [],
   "source": []
  }
 ],
 "metadata": {
  "anaconda-cloud": {},
  "kernelspec": {
   "display_name": "Python [conda root]",
   "language": "python",
   "name": "conda-root-py"
  },
  "language_info": {
   "codemirror_mode": {
    "name": "ipython",
    "version": 2
   },
   "file_extension": ".py",
   "mimetype": "text/x-python",
   "name": "python",
   "nbconvert_exporter": "python",
   "pygments_lexer": "ipython2",
   "version": "2.7.12"
  }
 },
 "nbformat": 4,
 "nbformat_minor": 2
}
