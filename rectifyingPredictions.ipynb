{
 "cells": [
  {
   "cell_type": "code",
   "execution_count": 207,
   "metadata": {
    "collapsed": true
   },
   "outputs": [],
   "source": [
    "from fuzzywuzzy import fuzz\n",
    "from fuzzywuzzy import process\n",
    "import re,string\n",
    "import pandas as pd"
   ]
  },
  {
   "cell_type": "code",
   "execution_count": 23,
   "metadata": {
    "collapsed": true
   },
   "outputs": [],
   "source": [
    "from os import listdir\n",
    "from os.path import isfile,join"
   ]
  },
  {
   "cell_type": "code",
   "execution_count": 24,
   "metadata": {
    "collapsed": true
   },
   "outputs": [],
   "source": [
    "def file_names(mypath):\n",
    "    onlyfiles = [f for f in listdir(mypath) if isfile(join(mypath, f))]\n",
    "    return onlyfiles"
   ]
  },
  {
   "cell_type": "code",
   "execution_count": 5,
   "metadata": {
    "collapsed": false
   },
   "outputs": [],
   "source": [
    "coll = pd.read_excel(\"Fulllist.xlsx\")\n",
    "listInst = list(coll[0])\n",
    "\n",
    "def stripSpace():\n",
    "    for i in range(len(listInst)):\n",
    "        try:\n",
    "            listInst[i]= listInst[i].strip()\n",
    "        except:\n",
    "            pass\n",
    "\n",
    "stripSpace()\n",
    "\n",
    "# listInst = list(set(listInst))\n",
    "\n",
    "# listInst = [x.encode('utf-8') for x in listInst]"
   ]
  },
  {
   "cell_type": "code",
   "execution_count": 86,
   "metadata": {
    "collapsed": true
   },
   "outputs": [],
   "source": [
    "listInst.append(\"state university of new york\")"
   ]
  },
  {
   "cell_type": "code",
   "execution_count": 87,
   "metadata": {
    "collapsed": true
   },
   "outputs": [],
   "source": [
    "schools1 = list(pd.read_csv(\"schoolsClean.csv\").drop(\"Unnamed: 0\",axis=1)[\"0\"])"
   ]
  },
  {
   "cell_type": "code",
   "execution_count": 88,
   "metadata": {
    "collapsed": false
   },
   "outputs": [],
   "source": [
    "schoolsWUni = list(pd.read_excel(\"usaschoolsandworld.xlsx\")[\"school\"])"
   ]
  },
  {
   "cell_type": "code",
   "execution_count": 89,
   "metadata": {
    "collapsed": false
   },
   "outputs": [],
   "source": [
    "listInst += schools1"
   ]
  },
  {
   "cell_type": "code",
   "execution_count": 90,
   "metadata": {
    "collapsed": false
   },
   "outputs": [],
   "source": [
    "listInst += schoolsWUni"
   ]
  },
  {
   "cell_type": "code",
   "execution_count": 91,
   "metadata": {
    "collapsed": true
   },
   "outputs": [],
   "source": [
    "def cleanList():\n",
    "    c=0\n",
    "    case1 = list(string.ascii_uppercase)\n",
    "    case2 = list(string.ascii_lowercase)\n",
    "    \n",
    "    for x in listInst:\n",
    "        if (x in case1) or (x in case2):\n",
    "            listInst.remove(x)\n",
    "            c+=1\n",
    "            print x\n",
    "    print c"
   ]
  },
  {
   "cell_type": "code",
   "execution_count": 1,
   "metadata": {
    "collapsed": false
   },
   "outputs": [],
   "source": [
    "cleanList()"
   ]
  },
  {
   "cell_type": "code",
   "execution_count": null,
   "metadata": {
    "collapsed": false
   },
   "outputs": [],
   "source": []
  },
  {
   "cell_type": "code",
   "execution_count": 93,
   "metadata": {
    "collapsed": false
   },
   "outputs": [],
   "source": [
    "listInst = set(listInst)"
   ]
  },
  {
   "cell_type": "code",
   "execution_count": 94,
   "metadata": {
    "collapsed": false
   },
   "outputs": [],
   "source": [
    "listInst = list(listInst)"
   ]
  },
  {
   "cell_type": "code",
   "execution_count": 95,
   "metadata": {
    "collapsed": true
   },
   "outputs": [],
   "source": [
    "listInst = listInst[1:]"
   ]
  },
  {
   "cell_type": "code",
   "execution_count": 96,
   "metadata": {
    "collapsed": false
   },
   "outputs": [],
   "source": [
    "listInst = [x.encode('utf-8') for x in listInst]"
   ]
  },
  {
   "cell_type": "code",
   "execution_count": 97,
   "metadata": {
    "collapsed": false
   },
   "outputs": [],
   "source": [
    "listInst = [str(x) for x in listInst]"
   ]
  },
  {
   "cell_type": "code",
   "execution_count": 49,
   "metadata": {
    "collapsed": false
   },
   "outputs": [],
   "source": [
    "deglist = list(pd.read_csv(\"degListChange.csv\").drop(\"Unnamed: 0\",axis=1)[\"0\"])"
   ]
  },
  {
   "cell_type": "code",
   "execution_count": 486,
   "metadata": {
    "collapsed": false
   },
   "outputs": [
    {
     "data": {
      "text/plain": [
       "[('su', 90), ('ur', 90), ('ssu', 90), ('sjsu', 68), ('rims', 68)]"
      ]
     },
     "execution_count": 486,
     "metadata": {},
     "output_type": "execute_result"
    }
   ],
   "source": [
    "process.extract(\"thrissur\",listInst,limit=5)"
   ]
  },
  {
   "cell_type": "code",
   "execution_count": 339,
   "metadata": {
    "collapsed": false
   },
   "outputs": [
    {
     "data": {
      "text/plain": [
       "90788"
      ]
     },
     "execution_count": 339,
     "metadata": {},
     "output_type": "execute_result"
    }
   ],
   "source": [
    "len(listInst)"
   ]
  },
  {
   "cell_type": "code",
   "execution_count": 409,
   "metadata": {
    "collapsed": false
   },
   "outputs": [],
   "source": [
    "listInst.remove(\"public school\")\n",
    "# listInst.remove(\"National\")\n",
    "# listInst.remove(\"De\")"
   ]
  },
  {
   "cell_type": "code",
   "execution_count": 485,
   "metadata": {
    "collapsed": true
   },
   "outputs": [],
   "source": [
    "# listInst.remove(\"Institute Of\")\n",
    "# listInst.remove(\"Ma\")\n",
    "# listInst.remove(\"Unity\")\n",
    "listInst.remove(\"thrissur\")"
   ]
  },
  {
   "cell_type": "code",
   "execution_count": 488,
   "metadata": {
    "collapsed": true
   },
   "outputs": [],
   "source": [
    "# listInst.append(\"alameda university\")\n",
    "# listInst.append(\"govt azizul haque college\")\n",
    "listInst.append(\"Guru Nanak Dev University\")"
   ]
  },
  {
   "cell_type": "code",
   "execution_count": 448,
   "metadata": {
    "collapsed": false
   },
   "outputs": [
    {
     "data": {
      "text/plain": [
       "90815"
      ]
     },
     "execution_count": 448,
     "metadata": {},
     "output_type": "execute_result"
    }
   ],
   "source": [
    "len(listInst)"
   ]
  },
  {
   "cell_type": "code",
   "execution_count": 358,
   "metadata": {
    "collapsed": false
   },
   "outputs": [
    {
     "data": {
      "text/plain": [
       "[('MBA', 100), ('BA', 90), ('MA', 80), ('VetMB', 72), ('BAH', 67)]"
      ]
     },
     "execution_count": 358,
     "metadata": {},
     "output_type": "execute_result"
    }
   ],
   "source": [
    "process.extract(\"mba\",deglist,limit=5)"
   ]
  },
  {
   "cell_type": "code",
   "execution_count": null,
   "metadata": {
    "collapsed": false
   },
   "outputs": [],
   "source": []
  },
  {
   "cell_type": "code",
   "execution_count": 481,
   "metadata": {
    "collapsed": true
   },
   "outputs": [],
   "source": [
    "f = open(\"finalAllinst.txt\",'w')\n",
    "pickle.dump(listInst,f)\n",
    "f.close()"
   ]
  },
  {
   "cell_type": "code",
   "execution_count": 4,
   "metadata": {
    "collapsed": true
   },
   "outputs": [],
   "source": [
    "import pickle"
   ]
  },
  {
   "cell_type": "code",
   "execution_count": 5,
   "metadata": {
    "collapsed": false
   },
   "outputs": [],
   "source": [
    "f = open(\"finalAllinst.txt\",'r')\n",
    "listInst = pickle.load(f)\n",
    "f.close()"
   ]
  },
  {
   "cell_type": "code",
   "execution_count": 471,
   "metadata": {
    "collapsed": false
   },
   "outputs": [],
   "source": [
    "deglist = list(pd.read_csv(\"degListChange.csv\").drop(\"Unnamed: 0\",axis=1)[\"0\"])"
   ]
  },
  {
   "cell_type": "code",
   "execution_count": 432,
   "metadata": {
    "collapsed": false
   },
   "outputs": [
    {
     "data": {
      "text/plain": [
       "90810"
      ]
     },
     "execution_count": 432,
     "metadata": {},
     "output_type": "execute_result"
    }
   ],
   "source": [
    "len(listInst)"
   ]
  },
  {
   "cell_type": "code",
   "execution_count": 434,
   "metadata": {
    "collapsed": false
   },
   "outputs": [],
   "source": [
    "listInst = list(set([x.lower().strip() for x in listInst]))"
   ]
  },
  {
   "cell_type": "code",
   "execution_count": 462,
   "metadata": {
    "collapsed": false
   },
   "outputs": [],
   "source": [
    "from fuzzywuzzy import fuzz\n",
    "from fuzzywuzzy import process\n",
    "import re,string\n",
    "\n",
    "shortForm ={\n",
    "    \"sc.\":\"science\",\"sc\":\"science\",\"jr.\":\"junior\",\"jr\":\"junior\",\"tech.\":\"technology\",\"tech\":\"technology\",\n",
    "    \"sr.\":\"senior\", \"sr\":\"senior\",\"coll.\":\"college\",\"coll\":\"college\",\"agri.\":\"agriculture\",\"edu.\":\"education\",\n",
    "    \"govt.\":\"government\", \"engg.\":\"engineering\",\"info.\":\"information\",\"pvt.\":\"private\",\"mgmt.\":\"management\",\n",
    "    \"inst.\":\"institute\",\"agri\":\"agriculture\",\"edu\":\"education\",\"govt\":\"government\",\"engg\":\"engineering\",\n",
    "    \"info\":\"information\",\"pvt\":\"private\",\"mgmt\":\"management\",\"inst\":\"institute\",\"deg.\":\"degree\",\"deg\":\"degree\",\n",
    "    \"mgt.\":\"management\",\"mgt\":\"management\",\"comm.\":\"commerce\",\"comm\":\"commerce\",\"mahavi.\":\"mahavidyalaya\",\n",
    "    \"mahavi\":\"mahavidyalaya\",\"mahavi.\":\"mahavidyalay\",\"mahavi\":\"mahavidyalay\",\"shree\":\"sri\",\"shri\": \"sri\",\n",
    "    \"sri\": \"sri\",\"sree\":\"sri\",\"science\":\"science\",\"junior\":\"junior\",\"technology\":\"technology\",\"senior\":\"senior\",\n",
    "    \"college\":\"college\",\"agriculture\":\"agriculture\",\"education\":\"education\",\"government\":\"government\",\n",
    "    \"engineering\":\"engineering\",\"information\":\"information\",\"private\":\"private\",\"management\":\"management\",\n",
    "    \"institute\":\"institute\",\"degree\":\"degree\",\"mahavidyalaya\":\"mahavidyalaya\",\"mahavidyalay\":\"mahavidyalay\",\n",
    "    \"st.\":\"st\",\"saint\":\"st\",\"st\":\"st\",\"uni.\":\"university\",\"uni\":\"university\",\"university\":\"university\",\n",
    "    \"prof.\":\"professional\",\"prof\":\"professional\",\"professional\":\"professional\",\"sec.\":\"secondary\",\"sec\":\"secondary\",\n",
    "    \"secondary\":\"secondary\",\"hons.\":\"honours\",\"hons\":\"honours\",\"honours\":\"honours\",\"hon.\":\"honours\",\n",
    "    \"admin\":\"administration\",\"admin.\":\"administration\",\"administration\":\"administration\",\"hr\":\"higher\",\"hr.\":\"higher\",\n",
    "    \"higher\":\"higher\",\"technological\":\"technical\",\"technical\":\"technical\",\"amp\":\"and\",\"and\":\"and\",\"amp;\":\"and\",\"&\":\"and\",\n",
    "    \"sciences\":\"science\",\"muhammed\":\"muhammad\",\"mohammed\":\"muhammad\",\"muhammed\":\"muhammad\",\"mohammad\":\"muhammad\"\n",
    "    \n",
    "}\n",
    "\n",
    "shortFormDeg ={\n",
    "    \"sc.\":\"science\",\"sc\":\"science\",\"jr.\":\"junior\",\"jr\":\"junior\",\"tech.\":\"technology\",\"tech\":\"technology\",\n",
    "    \"sr.\":\"senior\", \"sr\":\"senior\",\"coll.\":\"college\",\"coll\":\"college\",\"agri.\":\"agriculture\",\"edu.\":\"education\",\n",
    "    \"govt.\":\"government\", \"engg.\":\"engineering\",\"info.\":\"information\",\"pvt.\":\"private\",\"mgmt.\":\"management\",\n",
    "    \"inst.\":\"institute\",\"agri\":\"agriculture\",\"edu\":\"education\",\"govt\":\"government\",\"engg\":\"engineering\",\n",
    "    \"info\":\"information\",\"pvt\":\"private\",\"mgmt\":\"management\",\"inst\":\"institute\",\"deg.\":\"degree\",\"deg\":\"degree\",\n",
    "    \"mgt.\":\"management\",\"mgt\":\"management\",\"comm.\":\"commerce\",\"comm\":\"commerce\",\"science\":\"science\",\n",
    "    \"junior\":\"junior\",\"technology\":\"technology\",\"senior\":\"senior\",\n",
    "    \"college\":\"college\",\"agriculture\":\"agriculture\",\"education\":\"education\",\"government\":\"government\",\n",
    "    \"engineering\":\"engineering\",\"information\":\"information\",\"private\":\"private\",\"management\":\"management\",\n",
    "    \"institute\":\"institute\",\"degree\":\"degree\",\"mahavidyalaya\":\"mahavidyalaya\",\"mahavidyalay\":\"mahavidyalay\",\n",
    "    \"st.\":\"st\",\"saint\":\"st\",\"st\":\"st\",\"uni.\":\"university\",\"uni\":\"university\",\"university\":\"university\",\n",
    "    \"prof.\":\"professional\",\"prof\":\"professional\",\"professional\":\"professional\",\"sec.\":\"secondary\",\"sec\":\"secondary\",\n",
    "    \"secondary\":\"secondary\",\"hons.\":\"honours\",\"hons\":\"honours\",\"honours\":\"honours\",\"hon.\":\"honours\",\n",
    "    \"admin\":\"administration\",\"admin.\":\"administration\",\"administration\":\"administration\",\"bachelors\":\"bachelor\",\n",
    "    \"bachelor\":\"bachelor\",\"masters\":\"master\",\"master\":\"master\",\"sciences\":\"science\",\"laws\":\"law\",\"law\":\"law\",\n",
    "    \"arts\":\"arts\",\"art\":\"arts\",\"math\":\"maths\",\"maths\":\"maths\"\n",
    "    \n",
    "}\n",
    "\n",
    "lastDone = -1    #Infinite loop \"arts\" and \"s.\"\n",
    "\n",
    "def extractEntity():\n",
    "    global doc,pred,corr\n",
    "    ptr = 0\n",
    "    prev = 0\n",
    "    finalLen = len(pred)\n",
    "    while ptr!= len(pred):\n",
    "        prev = ptr\n",
    "        if pred[ptr]==\"O\":\n",
    "            ptr+=1\n",
    "            continue\n",
    "        elif pred[ptr][0]==\"B\" or pred[ptr][0]==\"I\":\n",
    "            prevTag = ptr\n",
    "            ptr+=1\n",
    "            if pred[ptr-1][2:]==\"INST\":\n",
    "                while((ptr<len(pred) and pred[ptr][2:]==\"INST\")):\n",
    "                    ptr+=1\n",
    "                ptr=ptr-1\n",
    "            else:\n",
    "                while((ptr<len(pred)) and (pred[ptr][0]==\"I\") and (pred[ptr][2:]==pred[prevTag][2:])):\n",
    "                    prevTag = ptr\n",
    "                    ptr+=1\n",
    "                ptr=ptr-1\n",
    "            if (pred[ptr][2:]==\"INST\"):\n",
    "                print \"extracted: Inst\",prev,ptr\n",
    "                ptrTemp = normaliseInstitute(prev,ptr)\n",
    "                if ptrTemp!=None:\n",
    "                    ptr=ptrTemp\n",
    "                else:\n",
    "                    prevNow = prev\n",
    "                    ptrNow = ptr\n",
    "                    if prev>0:\n",
    "                        prevNow = prev-1\n",
    "                    if ptr<finalLen-1:\n",
    "                        ptrNow = ptr+1\n",
    "                    print \"extracted: Inst\",prev,ptr\n",
    "                    ptrTemp = normaliseInstitute(prevNow,ptrNow)\n",
    "                    if ptrTemp!=None:\n",
    "                        ptr=ptrTemp\n",
    "                    else:\n",
    "                        print \"extracted: Deg\",prev,ptr\n",
    "                        ptrTemp = normaliseDegree(prev,ptr)\n",
    "                        if ptrTemp!=None:\n",
    "                            ptr=ptrTemp\n",
    "                        else:\n",
    "                            print \" Marking Others Inst\",prev,\" \",ptr+1\n",
    "                            for g in range(prev,ptr+1):\n",
    "                                pred[g]=\"O\"\n",
    "                            ptr+=1\n",
    "                            continue\n",
    "#                     ptr = checkFromAPI()   find nearest uloc\n",
    "            elif (pred[ptr][2:]==\"DEG\"):\n",
    "                print \"extracted: Deg\",prev,ptr\n",
    "                ptrTemp = normaliseDegree(prev,ptr)\n",
    "                if ptrTemp!=None:\n",
    "                    ptr=ptrTemp\n",
    "                else:\n",
    "                    prevNow = prev\n",
    "                    ptrNow = ptr\n",
    "                    if prev>0:\n",
    "                        prevNow = prev-1\n",
    "                    if ptr<finalLen-1:\n",
    "                        ptrNow = ptr+1\n",
    "                    print \"extracted: Deg\",prevNow,ptrNow\n",
    "                    ptrTemp = normaliseDegree(prevNow,ptrNow)\n",
    "                    if ptrTemp!=None:\n",
    "                        ptr=ptrTemp\n",
    "                    else:\n",
    "                        print \"extracted: Inst\",prev,ptr\n",
    "                        ptrTemp = normaliseInstitute(prev,ptr)\n",
    "                        if ptrTemp!=None:\n",
    "                            ptr=ptrTemp\n",
    "                        else:\n",
    "                            print \"Marking Others Deg\",prev,\" \",ptr+1\n",
    "                            for g in range(prev,ptr+1):\n",
    "                                pred[g]=\"O\"\n",
    "                            ptr+=1\n",
    "                            continue\n",
    "        elif pred[ptr][0]==\"U\":\n",
    "            if (pred[ptr][2:]==\"INST\"):\n",
    "                ptr+=1\n",
    "                while((ptr<len(pred) and pred[ptr][2:]==\"INST\")):\n",
    "                    ptr+=1\n",
    "                ptr=ptr-1\n",
    "                print \"extracted:  Inst\",prev,ptr\n",
    "                ptrTemp = normaliseInstitute(prev,ptr)\n",
    "                print \"received\",ptrTemp\n",
    "                if ptrTemp!=None:\n",
    "                    ptr=ptrTemp\n",
    "                else:\n",
    "                    prevNow = prev\n",
    "                    ptrNow = ptr\n",
    "                    if prev>0:\n",
    "                        prevNow = prev-1\n",
    "                    if ptr<finalLen-1:\n",
    "                        ptrNow = ptr+1\n",
    "                    print \"I came here, but why?\"\n",
    "                    print \"extracted: Inst\",prev,ptr\n",
    "                    ptrTemp = normaliseInstitute(prevNow,ptrNow)\n",
    "                    if ptrTemp!=None:\n",
    "                        ptr=ptrTemp\n",
    "                    else:\n",
    "                        print \"extracted: Deg\",prev,ptr\n",
    "                        ptrTemp = normaliseDegree(prev,ptr)\n",
    "                        if ptrTemp!=None:\n",
    "                            ptr=ptrTemp\n",
    "                        else:\n",
    "                            print \"doing it\",prev,\" \",ptr+1\n",
    "                            for g in range(prev,ptr+1):\n",
    "                                pred[g]=\"O\"\n",
    "                            ptr+=1\n",
    "                            continue\n",
    "#                     ptr = checkFromAPI()\n",
    "            elif (pred[ptr][2:]==\"DEG\"):\n",
    "                prevTag = ptr\n",
    "                ptr+=1\n",
    "                while((ptr<len(pred) and pred[ptr][2:]==\"DEG\")):\n",
    "                    ptr+=1\n",
    "                ptr=ptr-1\n",
    "                print \"extracted: Deg\",prev,ptr\n",
    "                ptrTemp = normaliseDegree(prev,ptr)\n",
    "                if ptrTemp!=None:\n",
    "                    ptr=ptrTemp\n",
    "                else:\n",
    "                    prevNow = prev\n",
    "                    ptrNow = ptr\n",
    "                    if prev>0:\n",
    "                        prevNow = prev-1\n",
    "                    if ptr<finalLen-1:\n",
    "                        ptrNow = ptr+1\n",
    "                    print \"extracted: Deg\",prev,ptr\n",
    "                    ptrTemp = normaliseDegree(prevNow,ptrNow)\n",
    "                    if ptrTemp!=None:\n",
    "                        ptr=ptrTemp\n",
    "                    else:\n",
    "                        print \"doing it\",prev,\" \",ptr+1\n",
    "                        for g in range(prev,ptr+1):\n",
    "                            pred[g]=\"O\"\n",
    "                        ptr+=1\n",
    "                        continue                \n",
    "        ptr+=1\n",
    "\n",
    "\n",
    "    \n",
    "\n",
    "\n",
    "def normaliseInstitute(prev,ptr):\n",
    "    print \"Normalise with :\",prev,ptr\n",
    "    global doc,pred,lastDone,listInst,shortForm\n",
    "    containsSymbols = 0\n",
    "    fetchedName=\"\"\n",
    "    k=0\n",
    "    tempResult=[]\n",
    "    for i in range(prev,ptr+1):\n",
    "        fetchedName=fetchedName+doc[i]+\" \"\n",
    "    fetchedName = fetchedName.strip().lower().decode('utf-8')\n",
    "    fetchedName = \" \".join([shortForm[x] if x in shortForm else x for x in fetchedName.split(\" \")])\n",
    "    print \"fetched name: \",fetchedName\n",
    "    if (\".\" in fetchedName) or (\"-\" in fetchedName) or (\"/\" in fetchedName) or (\"'\" in fetchedName) or (\"(\" in fetchedName) or (\")\" in fetchedName):\n",
    "        containsSymbols=1\n",
    "        \n",
    "    results = process.extract(fetchedName,listInst,limit=5)\n",
    "    maxMatch = []\n",
    "    flagGot = 0\n",
    "    print results\n",
    "    for item in results:\n",
    "        print \"item\",item\n",
    "        fullMatch=0\n",
    "        indexdoc=0\n",
    "        indexlist=0\n",
    "        partialMatch=0\n",
    "        if (\".\" in fetchedName) or (\"-\" in fetchedName) or (\"/\" in fetchedName) or (\"'\" in fetchedName) or (\"(\" in fetchedName) or (\")\" in fetchedName):\n",
    "            containsSymbols=1\n",
    "        \n",
    "        if containsSymbols:\n",
    "            lname=\"\"\n",
    "            item = item[0].lower()\n",
    "            for x in item.strip().split(\" \"):\n",
    "                if x in set(shortForm):\n",
    "                    lname+=shortForm[x]\n",
    "                    continue\n",
    "                if x in [\"in\",\"of\",\"and\",\"&\"]:\n",
    "                    continue\n",
    "                if x[-2:]==\"'s\":\n",
    "                    lname+=x[:-2]\n",
    "                    continue\n",
    "                for y in x:\n",
    "                    if y not in string.punctuation and y!=\" \":\n",
    "                        lname+=y\n",
    "            print \"lname\",lname\n",
    "            if prev==ptr:\n",
    "                cases=[(prev,ptr)]\n",
    "            elif (ptr-prev)==1:\n",
    "                cases=[(prev,ptr),(prev-1,ptr),(prev,ptr+1),(prev-1,ptr+1),(prev,ptr-1),(prev-2,ptr),(prev-2,ptr+1),(prev+1,ptr),(prev-2,ptr+2),(prev-1,ptr+2),(prev,ptr+2)]\n",
    "            else:\n",
    "                cases=[(prev,prev+1),(ptr-1,ptr),(ptr-2,ptr),(prev,prev),(prev+1,prev+1),(prev+2,prev+2),(prev+3,prev+3),(prev,prev+2),(prev,prev+3),(prev,prev+4),(prev,ptr),(prev-1,ptr),(prev,ptr+1),(prev-1,ptr+1),(prev,ptr-1),(prev-2,ptr),(prev-2,ptr+1),(prev+1,ptr),(prev-2,ptr+2),(prev-1,ptr+2),(prev,ptr+2),(prev,ptr-2),(prev+2,ptr),(prev+1,ptr-1)]\n",
    "            for start,end in cases:\n",
    "                if start>=0 and end<len(doc):\n",
    "                    docname=\"\"\n",
    "                    for ind in range(start,end+1):\n",
    "                        x1=doc[ind]\n",
    "                        if x1 in set(shortForm):\n",
    "                            docname+=shortForm[x1]\n",
    "                            continue\n",
    "                        if x1 in [\"in\",\"of\",\"and\",\"&\"]:\n",
    "                            continue\n",
    "                        if x1[-2:]==\"'s\":\n",
    "                            x1=x1[:-2]\n",
    "                        for y in x1:\n",
    "                            if y not in string.punctuation and y!=\" \":\n",
    "                                docname+=y.lower()\n",
    "                    print \"docname\",docname\n",
    "                    if lname==docname:\n",
    "                        flagGot=1\n",
    "                        prevnew = start\n",
    "                        ptrnew = end\n",
    "                        maxMatch.append([ptrnew-prevnew+1,prevnew,ptrnew])\n",
    "                        break\n",
    "            \n",
    "        else:            \n",
    "            itemtemplist=item[0].strip().split(\" \")\n",
    "            itemtemplist = map(lambda x:x.lower(),itemtemplist)      # Python3 error because iterator returned\n",
    "            # for prev>5:to cover the case where prev=0 , prev-5 won't exist\n",
    "            i=0\n",
    "            if prev>5:\n",
    "                i=prev-5\n",
    "            if i<=lastDone:\n",
    "                i=lastDone+1\n",
    "            if (ptr+5)<len(pred):\n",
    "                z = ptr+5\n",
    "            else:\n",
    "                z = len(pred)-1\n",
    "            print \"out of while\"\n",
    "            print \"loko\",prev,ptr,i,z\n",
    "            while((i>=prev-5) and (i<=z)):\n",
    "                print \"working on\",i\n",
    "                indexdoc=i\n",
    "                if ((((doc[indexdoc]).lower().strip())==itemtemplist[indexlist].strip()) or ((doc[indexdoc].lower().strip() in set(shortForm)) and (itemtemplist[indexlist].strip() in set(shortForm)) and ((shortForm[doc[indexdoc].lower().strip()]==shortForm[itemtemplist[indexlist].strip()])))):\n",
    "                    print \"indexdoc\",indexdoc\n",
    "                    fullMatch+=1\n",
    "                    indexdoc+=1\n",
    "                    indexlist+=1\n",
    "                    prevnew=indexdoc-1\n",
    "                    while((indexlist<len(itemtemplist)) and (indexdoc<len(doc))):\n",
    "                        if ((((doc[indexdoc]).lower().strip())==itemtemplist[indexlist].strip()) or ((doc[indexdoc].lower().strip() in set(shortForm)) and (itemtemplist[indexlist].strip() in set(shortForm)) and ((shortForm[doc[indexdoc].lower().strip()]==shortForm[itemtemplist[indexlist].strip()])))):\n",
    "                            print \"indexdoc1\",indexdoc\n",
    "                            fullMatch+=1          \n",
    "                            indexdoc+=1\n",
    "                            indexlist+=1\n",
    "                        elif (itemtemplist[indexlist] in [\"in\",\"of\",\"and\",\"&\",\"the\"]):  #city university \"of\" new york\n",
    "                            print \"indexdoc2\",indexdoc\n",
    "                            indexlist+=1\n",
    "                            fullMatch+=1\n",
    "                        elif (((doc[indexdoc]).lower()) in [\"in\",\"of\",\"and\",\"&\",\"the\"]):\n",
    "                            print \"indexdoc3\",indexdoc\n",
    "                            indexdoc+=1\n",
    "                        else:\n",
    "                            break\n",
    "    #                     elif (itemtemplist[indexlist]==\"-\" or itemtemplist[indexlist][0]==\"(\" ):\n",
    "    #                         if indexlist>=(len(itemtemplist)-2):\n",
    "    #                             partialMatch=1\n",
    "                    if fullMatch==len(itemtemplist):\n",
    "                        flagGot=1\n",
    "                        ptrnew=indexdoc-1\n",
    "                        print \"item\",itemtemplist\n",
    "                        print \"doc\",doc[prevnew:ptrnew+1]\n",
    "                        maxMatch.append([len(itemtemplist),prevnew,ptrnew])\n",
    "                        break\n",
    "                    else:\n",
    "                        break\n",
    "                          \n",
    "                i+=1\n",
    "    if flagGot:\n",
    "        print maxMatch\n",
    "        maxMatch.sort(reverse=True)\n",
    "        prevnew = maxMatch[0][1]\n",
    "        ptrnew = maxMatch[0][2]\n",
    "        print pred\n",
    "        correctPredictionList(prevnew,ptrnew)\n",
    "        softMatch(prev,ptr,prevnew,ptrnew)\n",
    "        print pred\n",
    "        lastDone=ptrnew\n",
    "        print \"lastDone\",lastDone\n",
    "        return ptrnew\n",
    "\n",
    "\n",
    "def softMatch(prev,ptr,prevnew,ptrnew):\n",
    "    global lastDone\n",
    "    if prev<=lastDone:\n",
    "        prev=lastDone+1\n",
    "    if prevnew>prev:\n",
    "        print \"softtt\",prev,prevnew\n",
    "        for i in range(prev,prevnew):\n",
    "            pred[i] = \"O\"\n",
    "\n",
    "\n",
    "def normaliseDegree(prev,ptr):\n",
    "    global doc,pred,shortFormDeg,lastDone,deglist\n",
    "    fetchedName=\"\"\n",
    "    k=0\n",
    "    tempResult=[]\n",
    "    for i in range(prev,ptr+1):\n",
    "        fetchedName=fetchedName+doc[i]+\" \"\n",
    "    fetchedName = fetchedName.strip().lower().decode('utf-8')\n",
    "    specChar=\"!#$%&\\'*+,./:;<=>?@[\\\\]^_`{|}~]\"\n",
    "    fetchedName=''.join(x for x in fetchedName if x not in specChar)\n",
    "    fetchedName = \" \".join([shortFormDeg[x] if x in shortFormDeg else x for x in fetchedName.split(\" \")])\n",
    "    print \"name fetched: \",fetchedName            \n",
    "    results = process.extract(fetchedName,deglist,limit=5)\n",
    "    maxMatch=[]\n",
    "    flagGot=0\n",
    "    print results\n",
    "    for item in results:\n",
    "        fullMatch=0\n",
    "        indexdoc=0\n",
    "        indexlist=0\n",
    "        itemtemplist=item[0].strip().split(\" \")\n",
    "        itemtemplist = map(lambda x:x.lower(),itemtemplist)\n",
    "        # for prev>5:to cover the case where prev=0 , prev-5 won't exist\n",
    "        i=0\n",
    "        if prev>5:\n",
    "            i=prev-5\n",
    "        if i<=lastDone:\n",
    "            i=lastDone+1\n",
    "        if (ptr+5)<len(pred):\n",
    "            z = ptr+5\n",
    "        else:\n",
    "            z = len(pred)-1\n",
    "        while((i>=prev-5) and (i<=z)):\n",
    "            indexdoc=i\n",
    "            if ((((doc[indexdoc]).lower().strip().replace(\".\",\"\").replace(\"-\",\"\").replace(\"'\",\"\"))==itemtemplist[indexlist].strip().replace(\".\",\"\").replace(\"-\",\"\").replace(\"'\",\"\")) or ((doc[indexdoc].lower().strip().replace(\"-\",\"\").replace(\"'\",\"\") in set(shortFormDeg)) and (itemtemplist[indexlist].strip().replace(\"-\",\"\").replace(\"'\",\"\") in set(shortFormDeg)) and ((shortFormDeg[doc[indexdoc].lower().strip().replace(\"-\",\"\").replace(\"'\",\"\")]==shortFormDeg[itemtemplist[indexlist].strip().replace(\"-\",\"\").replace(\"'\",\"\")])))):\n",
    "                fullMatch+=1\n",
    "                indexdoc+=1\n",
    "                indexlist+=1\n",
    "                prevnew=indexdoc-1\n",
    "                while((indexlist<len(itemtemplist)) and (indexdoc<len(doc))):\n",
    "                    if ((((doc[indexdoc]).lower().strip().replace(\".\",\"\").replace(\"-\",\"\").replace(\"'\",\"\"))==itemtemplist[indexlist].strip().replace(\".\",\"\").replace(\"-\",\"\").replace(\"'\",\"\")) or ((doc[indexdoc].lower().strip().replace(\"-\",\"\").replace(\"'\",\"\") in set(shortFormDeg)) and (itemtemplist[indexlist].strip().replace(\"-\",\"\").replace(\"'\",\"\") in set(shortFormDeg)) and ((shortFormDeg[doc[indexdoc].lower().strip().replace(\"-\",\"\").replace(\"'\",\"\")]==shortFormDeg[itemtemplist[indexlist].strip().replace(\"-\",\"\").replace(\"'\",\"\")])))):\n",
    "                        fullMatch+=1          \n",
    "                        indexdoc+=1\n",
    "                        indexlist+=1\n",
    "                    elif (itemtemplist[indexlist] in [\"in\",\"of\",\"and\",\"&\",\"the\"]):\n",
    "                        indexlist+=1\n",
    "                        fullMatch+=1\n",
    "                    elif (((doc[indexdoc]).lower()) in [\"in\",\"of\",\"and\",\"&\",\"the\"]):\n",
    "                        indexdoc+=1\n",
    "                    else:\n",
    "                        break\n",
    "#                     elif (itemtemplist[indexlist]==\"-\" or itemtemplist[indexlist][0]==\"(\" ):\n",
    "#                         if indexlist>=(len(itemtemplist)-2):\n",
    "#                             partialMatch=1\n",
    "                if fullMatch==len(itemtemplist):\n",
    "                    flagGot=1\n",
    "                    ptrnew=indexdoc-1\n",
    "                    maxMatch.append([len(itemtemplist),prevnew,ptrnew])\n",
    "                    break\n",
    "                else:\n",
    "                    break\n",
    "            i+=1\n",
    "    if flagGot:\n",
    "        print \"maxMatchDegree: \",maxMatch\n",
    "        maxMatch.sort(reverse=True)\n",
    "        prevnew = maxMatch[0][1]\n",
    "        ptrnew = maxMatch[0][2]\n",
    "        print pred\n",
    "        correctDegreeList(prevnew,ptrnew)\n",
    "        softMatch(prev,ptr,prevnew,ptrnew)\n",
    "        print pred\n",
    "        lastDone=ptrnew\n",
    "        return ptrnew\n",
    "\n",
    "\n",
    "def correctDegreeList(prevnew,ptrnew):\n",
    "    global doc,pred\n",
    "    ind = 0\n",
    "    print \"docC\",doc[prevnew:ptrnew+1]\n",
    "    print \"oldC\",pred[prevnew:ptrnew+1]\n",
    "    if prevnew==ptrnew:\n",
    "        pred[prevnew] = \"U-DEG\"\n",
    "    else: \n",
    "        for i in range(prevnew,ptrnew+1):\n",
    "            if i==prevnew:\n",
    "                ind+=1\n",
    "                pred[i] = \"B-DEG\"\n",
    "                continue\n",
    "            ind+=1\n",
    "            pred[i] = \"I-DEG\"\n",
    "    print \"new\",pred[prevnew:ptrnew+1]\n",
    "#     print \"corr\",corr[prevnew:ptrnew+1]\n",
    "    \n",
    "def correctPredictionList(prevnew,ptrnew):\n",
    "    global doc,pred\n",
    "    ind = 0\n",
    "    print \"docC\",doc[prevnew:ptrnew+1]\n",
    "    print \"oldC\",pred[prevnew:ptrnew+1]\n",
    "    if prevnew==ptrnew:\n",
    "        pred[prevnew] = \"U-INST\"\n",
    "    else:\n",
    "        for i in range(prevnew,ptrnew+1):\n",
    "            if i==prevnew:\n",
    "                ind+=1\n",
    "                pred[i] = \"B-INST\"\n",
    "                continue\n",
    "            ind+=1\n",
    "            pred[i] = \"I-INST\"\n",
    "    print \"new\",pred[prevnew:ptrnew+1]\n",
    "#     print \"corr\",corr[prevnew:ptrnew+1]"
   ]
  },
  {
   "cell_type": "code",
   "execution_count": 159,
   "metadata": {
    "collapsed": true
   },
   "outputs": [],
   "source": [
    "def colonToSYM(x):\n",
    "    if x==\":\":\n",
    "        return \"SYM\"\n",
    "    else:\n",
    "        return x"
   ]
  },
  {
   "cell_type": "code",
   "execution_count": 160,
   "metadata": {
    "collapsed": true
   },
   "outputs": [],
   "source": [
    "def lower1(x):\n",
    "    return str(x).lower()"
   ]
  },
  {
   "cell_type": "code",
   "execution_count": 117,
   "metadata": {
    "collapsed": true
   },
   "outputs": [],
   "source": [
    "def removeNonAscii(s): return \"\".join(i for i in s if ord(i)<128)"
   ]
  },
  {
   "cell_type": "code",
   "execution_count": 2,
   "metadata": {
    "collapsed": false
   },
   "outputs": [],
   "source": [
    "path = \"/home/karan/FinalModel/Predictions/Set13/\"\n",
    "iterNo=13\n",
    "for fname in file_names(path):\n",
    "    df = pd.read_csv(path+fname)\n",
    "#     df = df[~pd.isnull(df[\"tags\"]) & ~((df[\"tags\"]==\" \") | (df[\"tags\"]==\"  \"))]   # Take tagged data i.e. Education Section\n",
    "    df[\"data\"] = df[\"data\"].apply(lower1)\n",
    "    document = list(df[\"data\"])\n",
    "    predictions = list(df[\"pred\"])\n",
    "    doc = document[:]\n",
    "    pred = predictions[:]\n",
    "    doc = [str(x) for x in doc]\n",
    "    pred = [str(x) for x in pred]\n",
    "    lastDone = -1\n",
    "    doc = [removeNonAscii(x) for x in doc]\n",
    "    extractEntity()        # Bottlenecks of bottlenecks\n",
    "    \n",
    "    data = pd.DataFrame(document,columns=[\"data\"])\n",
    "    data[\"old\"] = pd.DataFrame(predictions)\n",
    "    data[\"new\"] = pd.DataFrame(pred)\n",
    "    data.to_csv(\"/home/karan/FinalModel/Cleaned/Set\"+str(iterNo)+\"/\"+fname)"
   ]
  },
  {
   "cell_type": "code",
   "execution_count": 182,
   "metadata": {
    "collapsed": false
   },
   "outputs": [
    {
     "data": {
      "text/plain": [
       "['193375-15727377.csv']"
      ]
     },
     "execution_count": 182,
     "metadata": {},
     "output_type": "execute_result"
    }
   ],
   "source": [
    "file_names(\"/home/karan/FinalModel/Predictions/Set3/\")"
   ]
  },
  {
   "cell_type": "code",
   "execution_count": null,
   "metadata": {
    "collapsed": false
   },
   "outputs": [],
   "source": []
  }
 ],
 "metadata": {
  "anaconda-cloud": {},
  "kernelspec": {
   "display_name": "Python [conda root]",
   "language": "python",
   "name": "conda-root-py"
  },
  "language_info": {
   "codemirror_mode": {
    "name": "ipython",
    "version": 2
   },
   "file_extension": ".py",
   "mimetype": "text/x-python",
   "name": "python",
   "nbconvert_exporter": "python",
   "pygments_lexer": "ipython2",
   "version": "2.7.12"
  }
 },
 "nbformat": 4,
 "nbformat_minor": 2
}
